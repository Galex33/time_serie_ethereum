{
 "cells": [
  {
   "cell_type": "code",
   "execution_count": 1,
   "metadata": {
    "ExecuteTime": {
     "end_time": "2021-06-18T07:35:22.882474Z",
     "start_time": "2021-06-18T07:35:20.788152Z"
    }
   },
   "outputs": [],
   "source": [
    "import pandas as pd\n",
    "import numpy as np\n",
    "import seaborn as sns\n",
    "import matplotlib.pyplot as plt\n",
    "from datetime import datetime\n",
    "from pandasql import sqldf"
   ]
  },
  {
   "cell_type": "code",
   "execution_count": 2,
   "metadata": {
    "ExecuteTime": {
     "end_time": "2021-06-18T07:35:25.596895Z",
     "start_time": "2021-06-18T07:35:22.887050Z"
    }
   },
   "outputs": [
    {
     "ename": "FileNotFoundError",
     "evalue": "[Errno 2] File data/gemini_ETHUSD_2020_1min.csv does not exist: 'data/gemini_ETHUSD_2020_1min.csv'",
     "output_type": "error",
     "traceback": [
      "\u001b[1;31m---------------------------------------------------------------------------\u001b[0m",
      "\u001b[1;31mFileNotFoundError\u001b[0m                         Traceback (most recent call last)",
      "\u001b[1;32m<ipython-input-2-a01684bedcc5>\u001b[0m in \u001b[0;36m<module>\u001b[1;34m\u001b[0m\n\u001b[0;32m      3\u001b[0m \u001b[0mdata_3\u001b[0m \u001b[1;33m=\u001b[0m \u001b[0mpd\u001b[0m\u001b[1;33m.\u001b[0m\u001b[0mread_csv\u001b[0m\u001b[1;33m(\u001b[0m\u001b[1;34m\"data/gemini_ETHUSD_2018_1min.csv\"\u001b[0m\u001b[1;33m)\u001b[0m\u001b[1;33m\u001b[0m\u001b[1;33m\u001b[0m\u001b[0m\n\u001b[0;32m      4\u001b[0m \u001b[0mdata_4\u001b[0m \u001b[1;33m=\u001b[0m \u001b[0mpd\u001b[0m\u001b[1;33m.\u001b[0m\u001b[0mread_csv\u001b[0m\u001b[1;33m(\u001b[0m\u001b[1;34m\"data/gemini_ETHUSD_2019_1min.csv\"\u001b[0m\u001b[1;33m)\u001b[0m\u001b[1;33m\u001b[0m\u001b[1;33m\u001b[0m\u001b[0m\n\u001b[1;32m----> 5\u001b[1;33m \u001b[0mdata_5\u001b[0m \u001b[1;33m=\u001b[0m \u001b[0mpd\u001b[0m\u001b[1;33m.\u001b[0m\u001b[0mread_csv\u001b[0m\u001b[1;33m(\u001b[0m\u001b[1;34m\"data/gemini_ETHUSD_2020_1min.csv\"\u001b[0m\u001b[1;33m)\u001b[0m\u001b[1;33m\u001b[0m\u001b[1;33m\u001b[0m\u001b[0m\n\u001b[0m",
      "\u001b[1;32m~\\anaconda3\\lib\\site-packages\\pandas\\io\\parsers.py\u001b[0m in \u001b[0;36mparser_f\u001b[1;34m(filepath_or_buffer, sep, delimiter, header, names, index_col, usecols, squeeze, prefix, mangle_dupe_cols, dtype, engine, converters, true_values, false_values, skipinitialspace, skiprows, skipfooter, nrows, na_values, keep_default_na, na_filter, verbose, skip_blank_lines, parse_dates, infer_datetime_format, keep_date_col, date_parser, dayfirst, cache_dates, iterator, chunksize, compression, thousands, decimal, lineterminator, quotechar, quoting, doublequote, escapechar, comment, encoding, dialect, error_bad_lines, warn_bad_lines, delim_whitespace, low_memory, memory_map, float_precision)\u001b[0m\n\u001b[0;32m    674\u001b[0m         )\n\u001b[0;32m    675\u001b[0m \u001b[1;33m\u001b[0m\u001b[0m\n\u001b[1;32m--> 676\u001b[1;33m         \u001b[1;32mreturn\u001b[0m \u001b[0m_read\u001b[0m\u001b[1;33m(\u001b[0m\u001b[0mfilepath_or_buffer\u001b[0m\u001b[1;33m,\u001b[0m \u001b[0mkwds\u001b[0m\u001b[1;33m)\u001b[0m\u001b[1;33m\u001b[0m\u001b[1;33m\u001b[0m\u001b[0m\n\u001b[0m\u001b[0;32m    677\u001b[0m \u001b[1;33m\u001b[0m\u001b[0m\n\u001b[0;32m    678\u001b[0m     \u001b[0mparser_f\u001b[0m\u001b[1;33m.\u001b[0m\u001b[0m__name__\u001b[0m \u001b[1;33m=\u001b[0m \u001b[0mname\u001b[0m\u001b[1;33m\u001b[0m\u001b[1;33m\u001b[0m\u001b[0m\n",
      "\u001b[1;32m~\\anaconda3\\lib\\site-packages\\pandas\\io\\parsers.py\u001b[0m in \u001b[0;36m_read\u001b[1;34m(filepath_or_buffer, kwds)\u001b[0m\n\u001b[0;32m    446\u001b[0m \u001b[1;33m\u001b[0m\u001b[0m\n\u001b[0;32m    447\u001b[0m     \u001b[1;31m# Create the parser.\u001b[0m\u001b[1;33m\u001b[0m\u001b[1;33m\u001b[0m\u001b[1;33m\u001b[0m\u001b[0m\n\u001b[1;32m--> 448\u001b[1;33m     \u001b[0mparser\u001b[0m \u001b[1;33m=\u001b[0m \u001b[0mTextFileReader\u001b[0m\u001b[1;33m(\u001b[0m\u001b[0mfp_or_buf\u001b[0m\u001b[1;33m,\u001b[0m \u001b[1;33m**\u001b[0m\u001b[0mkwds\u001b[0m\u001b[1;33m)\u001b[0m\u001b[1;33m\u001b[0m\u001b[1;33m\u001b[0m\u001b[0m\n\u001b[0m\u001b[0;32m    449\u001b[0m \u001b[1;33m\u001b[0m\u001b[0m\n\u001b[0;32m    450\u001b[0m     \u001b[1;32mif\u001b[0m \u001b[0mchunksize\u001b[0m \u001b[1;32mor\u001b[0m \u001b[0miterator\u001b[0m\u001b[1;33m:\u001b[0m\u001b[1;33m\u001b[0m\u001b[1;33m\u001b[0m\u001b[0m\n",
      "\u001b[1;32m~\\anaconda3\\lib\\site-packages\\pandas\\io\\parsers.py\u001b[0m in \u001b[0;36m__init__\u001b[1;34m(self, f, engine, **kwds)\u001b[0m\n\u001b[0;32m    878\u001b[0m             \u001b[0mself\u001b[0m\u001b[1;33m.\u001b[0m\u001b[0moptions\u001b[0m\u001b[1;33m[\u001b[0m\u001b[1;34m\"has_index_names\"\u001b[0m\u001b[1;33m]\u001b[0m \u001b[1;33m=\u001b[0m \u001b[0mkwds\u001b[0m\u001b[1;33m[\u001b[0m\u001b[1;34m\"has_index_names\"\u001b[0m\u001b[1;33m]\u001b[0m\u001b[1;33m\u001b[0m\u001b[1;33m\u001b[0m\u001b[0m\n\u001b[0;32m    879\u001b[0m \u001b[1;33m\u001b[0m\u001b[0m\n\u001b[1;32m--> 880\u001b[1;33m         \u001b[0mself\u001b[0m\u001b[1;33m.\u001b[0m\u001b[0m_make_engine\u001b[0m\u001b[1;33m(\u001b[0m\u001b[0mself\u001b[0m\u001b[1;33m.\u001b[0m\u001b[0mengine\u001b[0m\u001b[1;33m)\u001b[0m\u001b[1;33m\u001b[0m\u001b[1;33m\u001b[0m\u001b[0m\n\u001b[0m\u001b[0;32m    881\u001b[0m \u001b[1;33m\u001b[0m\u001b[0m\n\u001b[0;32m    882\u001b[0m     \u001b[1;32mdef\u001b[0m \u001b[0mclose\u001b[0m\u001b[1;33m(\u001b[0m\u001b[0mself\u001b[0m\u001b[1;33m)\u001b[0m\u001b[1;33m:\u001b[0m\u001b[1;33m\u001b[0m\u001b[1;33m\u001b[0m\u001b[0m\n",
      "\u001b[1;32m~\\anaconda3\\lib\\site-packages\\pandas\\io\\parsers.py\u001b[0m in \u001b[0;36m_make_engine\u001b[1;34m(self, engine)\u001b[0m\n\u001b[0;32m   1112\u001b[0m     \u001b[1;32mdef\u001b[0m \u001b[0m_make_engine\u001b[0m\u001b[1;33m(\u001b[0m\u001b[0mself\u001b[0m\u001b[1;33m,\u001b[0m \u001b[0mengine\u001b[0m\u001b[1;33m=\u001b[0m\u001b[1;34m\"c\"\u001b[0m\u001b[1;33m)\u001b[0m\u001b[1;33m:\u001b[0m\u001b[1;33m\u001b[0m\u001b[1;33m\u001b[0m\u001b[0m\n\u001b[0;32m   1113\u001b[0m         \u001b[1;32mif\u001b[0m \u001b[0mengine\u001b[0m \u001b[1;33m==\u001b[0m \u001b[1;34m\"c\"\u001b[0m\u001b[1;33m:\u001b[0m\u001b[1;33m\u001b[0m\u001b[1;33m\u001b[0m\u001b[0m\n\u001b[1;32m-> 1114\u001b[1;33m             \u001b[0mself\u001b[0m\u001b[1;33m.\u001b[0m\u001b[0m_engine\u001b[0m \u001b[1;33m=\u001b[0m \u001b[0mCParserWrapper\u001b[0m\u001b[1;33m(\u001b[0m\u001b[0mself\u001b[0m\u001b[1;33m.\u001b[0m\u001b[0mf\u001b[0m\u001b[1;33m,\u001b[0m \u001b[1;33m**\u001b[0m\u001b[0mself\u001b[0m\u001b[1;33m.\u001b[0m\u001b[0moptions\u001b[0m\u001b[1;33m)\u001b[0m\u001b[1;33m\u001b[0m\u001b[1;33m\u001b[0m\u001b[0m\n\u001b[0m\u001b[0;32m   1115\u001b[0m         \u001b[1;32melse\u001b[0m\u001b[1;33m:\u001b[0m\u001b[1;33m\u001b[0m\u001b[1;33m\u001b[0m\u001b[0m\n\u001b[0;32m   1116\u001b[0m             \u001b[1;32mif\u001b[0m \u001b[0mengine\u001b[0m \u001b[1;33m==\u001b[0m \u001b[1;34m\"python\"\u001b[0m\u001b[1;33m:\u001b[0m\u001b[1;33m\u001b[0m\u001b[1;33m\u001b[0m\u001b[0m\n",
      "\u001b[1;32m~\\anaconda3\\lib\\site-packages\\pandas\\io\\parsers.py\u001b[0m in \u001b[0;36m__init__\u001b[1;34m(self, src, **kwds)\u001b[0m\n\u001b[0;32m   1889\u001b[0m         \u001b[0mkwds\u001b[0m\u001b[1;33m[\u001b[0m\u001b[1;34m\"usecols\"\u001b[0m\u001b[1;33m]\u001b[0m \u001b[1;33m=\u001b[0m \u001b[0mself\u001b[0m\u001b[1;33m.\u001b[0m\u001b[0musecols\u001b[0m\u001b[1;33m\u001b[0m\u001b[1;33m\u001b[0m\u001b[0m\n\u001b[0;32m   1890\u001b[0m \u001b[1;33m\u001b[0m\u001b[0m\n\u001b[1;32m-> 1891\u001b[1;33m         \u001b[0mself\u001b[0m\u001b[1;33m.\u001b[0m\u001b[0m_reader\u001b[0m \u001b[1;33m=\u001b[0m \u001b[0mparsers\u001b[0m\u001b[1;33m.\u001b[0m\u001b[0mTextReader\u001b[0m\u001b[1;33m(\u001b[0m\u001b[0msrc\u001b[0m\u001b[1;33m,\u001b[0m \u001b[1;33m**\u001b[0m\u001b[0mkwds\u001b[0m\u001b[1;33m)\u001b[0m\u001b[1;33m\u001b[0m\u001b[1;33m\u001b[0m\u001b[0m\n\u001b[0m\u001b[0;32m   1892\u001b[0m         \u001b[0mself\u001b[0m\u001b[1;33m.\u001b[0m\u001b[0munnamed_cols\u001b[0m \u001b[1;33m=\u001b[0m \u001b[0mself\u001b[0m\u001b[1;33m.\u001b[0m\u001b[0m_reader\u001b[0m\u001b[1;33m.\u001b[0m\u001b[0munnamed_cols\u001b[0m\u001b[1;33m\u001b[0m\u001b[1;33m\u001b[0m\u001b[0m\n\u001b[0;32m   1893\u001b[0m \u001b[1;33m\u001b[0m\u001b[0m\n",
      "\u001b[1;32mpandas\\_libs\\parsers.pyx\u001b[0m in \u001b[0;36mpandas._libs.parsers.TextReader.__cinit__\u001b[1;34m()\u001b[0m\n",
      "\u001b[1;32mpandas\\_libs\\parsers.pyx\u001b[0m in \u001b[0;36mpandas._libs.parsers.TextReader._setup_parser_source\u001b[1;34m()\u001b[0m\n",
      "\u001b[1;31mFileNotFoundError\u001b[0m: [Errno 2] File data/gemini_ETHUSD_2020_1min.csv does not exist: 'data/gemini_ETHUSD_2020_1min.csv'"
     ]
    }
   ],
   "source": [
    "data_1 = pd.read_csv(\"data/gemini_ETHUSD_2016_1min.csv\")\n",
    "data_2 = pd.read_csv(\"data/gemini_ETHUSD_2017_1min.csv\")\n",
    "data_3 = pd.read_csv(\"data/gemini_ETHUSD_2018_1min.csv\")\n",
    "data_4 = pd.read_csv(\"data/gemini_ETHUSD_2019_1min.csv\")\n",
    "data_5 = pd.read_csv(\"data/gemini_ETHUSD_2020_1min.csv\")"
   ]
  },
  {
   "cell_type": "code",
   "execution_count": null,
   "metadata": {
    "ExecuteTime": {
     "end_time": "2021-06-18T07:35:25.602858Z",
     "start_time": "2021-06-18T07:35:20.792Z"
    }
   },
   "outputs": [],
   "source": [
    "data_total = pd.concat([data_1, data_2, data_3, data_4])"
   ]
  },
  {
   "cell_type": "code",
   "execution_count": null,
   "metadata": {
    "ExecuteTime": {
     "end_time": "2021-06-18T07:35:25.604704Z",
     "start_time": "2021-06-18T07:35:20.795Z"
    }
   },
   "outputs": [],
   "source": [
    "data_total.drop(columns=['Unix Timestamp', 'Symbol'], inplace=True)"
   ]
  },
  {
   "cell_type": "code",
   "execution_count": null,
   "metadata": {
    "ExecuteTime": {
     "end_time": "2021-06-18T07:35:25.606700Z",
     "start_time": "2021-06-18T07:35:20.800Z"
    }
   },
   "outputs": [],
   "source": [
    "data_total.columns = ['Date', 'OpeningPrice', 'HighestPrice', 'LowestPrice', 'ClosurePrice', 'VolumeETH']"
   ]
  },
  {
   "cell_type": "code",
   "execution_count": null,
   "metadata": {
    "ExecuteTime": {
     "end_time": "2021-06-18T07:35:25.609458Z",
     "start_time": "2021-06-18T07:35:20.802Z"
    }
   },
   "outputs": [],
   "source": [
    "data_total['OpenCloseDifference'] = data_total[\"ClosurePrice\"] - data_total[\"OpeningPrice\"]\n",
    "data_total['HighLowDifference'] = data_total[\"HighestPrice\"] - data_total[\"LowestPrice\"]"
   ]
  },
  {
   "cell_type": "code",
   "execution_count": null,
   "metadata": {
    "ExecuteTime": {
     "end_time": "2021-06-18T07:35:25.611388Z",
     "start_time": "2021-06-18T07:35:20.805Z"
    }
   },
   "outputs": [],
   "source": [
    "data_total.head(20)"
   ]
  },
  {
   "cell_type": "code",
   "execution_count": null,
   "metadata": {
    "ExecuteTime": {
     "end_time": "2021-06-18T07:35:25.613536Z",
     "start_time": "2021-06-18T07:35:20.808Z"
    }
   },
   "outputs": [],
   "source": [
    "data_total[\"Date and Hour\"] = data_total['Date']\n",
    "data_total[\"Date\"] = data_total['Date and Hour'].str.split(\" \")"
   ]
  },
  {
   "cell_type": "code",
   "execution_count": null,
   "metadata": {
    "ExecuteTime": {
     "end_time": "2021-06-18T07:35:25.615611Z",
     "start_time": "2021-06-18T07:35:20.811Z"
    }
   },
   "outputs": [],
   "source": [
    "%%time\n",
    "data_total['Hour'] = [i[1] for i in data_total[\"Date\"]]\n",
    "data_total['Date'] = [i[0] for i in data_total[\"Date\"]]"
   ]
  },
  {
   "cell_type": "code",
   "execution_count": null,
   "metadata": {
    "ExecuteTime": {
     "end_time": "2021-06-18T07:35:25.616609Z",
     "start_time": "2021-06-18T07:35:20.813Z"
    }
   },
   "outputs": [],
   "source": [
    "data_total.drop(columns=\"Date and Hour\", inplace=True)"
   ]
  },
  {
   "cell_type": "code",
   "execution_count": null,
   "metadata": {
    "ExecuteTime": {
     "end_time": "2021-06-18T07:35:25.618603Z",
     "start_time": "2021-06-18T07:35:20.815Z"
    }
   },
   "outputs": [],
   "source": [
    "data_total['Date'] = data_total['Date'].str.split(\"-\")"
   ]
  },
  {
   "cell_type": "code",
   "execution_count": null,
   "metadata": {
    "ExecuteTime": {
     "end_time": "2021-06-18T07:35:25.620615Z",
     "start_time": "2021-06-18T07:35:20.818Z"
    }
   },
   "outputs": [],
   "source": [
    "data_total"
   ]
  },
  {
   "cell_type": "code",
   "execution_count": null,
   "metadata": {
    "ExecuteTime": {
     "end_time": "2021-06-18T07:35:25.621654Z",
     "start_time": "2021-06-18T07:35:20.820Z"
    }
   },
   "outputs": [],
   "source": [
    "%%time\n",
    "data_total['Day'] = [i[0] for i in data_total[\"Date\"]]\n",
    "data_total['Month'] = [i[1] for i in data_total[\"Date\"]]\n",
    "data_total['Year'] = [i[2] for i in data_total[\"Date\"]]\n",
    "data_total.drop(columns='Date', inplace=True)"
   ]
  },
  {
   "cell_type": "code",
   "execution_count": null,
   "metadata": {
    "ExecuteTime": {
     "end_time": "2021-06-18T07:35:25.624232Z",
     "start_time": "2021-06-18T07:35:20.822Z"
    }
   },
   "outputs": [],
   "source": [
    "data_total"
   ]
  },
  {
   "cell_type": "code",
   "execution_count": null,
   "metadata": {
    "ExecuteTime": {
     "end_time": "2021-06-18T07:35:25.626518Z",
     "start_time": "2021-06-18T07:35:20.824Z"
    }
   },
   "outputs": [],
   "source": [
    "df_per_day = sqldf(\"\"\"SELECT AVG(OpeningPrice), \n",
    "                   MAX(HighestPrice),\n",
    "                   MIN(LowestPrice),\n",
    "                   AVG(ClosurePrice),\n",
    "                   SUM(VolumeETH),\n",
    "                   AVG(OpenCloseDifference),\n",
    "                   AVG(HighLowDifference),\n",
    "                   Day ,Month ,Year \n",
    "                   FROM data_total \n",
    "                   GROUP BY Day, Month, Year \n",
    "                   ORDER BY Year, Month\"\"\")\n",
    "\n",
    "df_per_day.loc[0, 'MIN(LowestPrice)'] = 9.36"
   ]
  },
  {
   "cell_type": "code",
   "execution_count": null,
   "metadata": {
    "ExecuteTime": {
     "end_time": "2021-06-18T07:35:25.633431Z",
     "start_time": "2021-06-18T07:35:20.826Z"
    }
   },
   "outputs": [],
   "source": [
    "df_per_day['Date'] = df_per_day[\"Month\"].map(str) + \"/\" + df_per_day[\"Day\"]+ \"/\" + df_per_day[\"Year\"]\n",
    "df_per_day['Date'] = pd.to_datetime(df_per_day['Date'], format=\"%m/%d/%Y\")\n",
    "df_per_day = df_per_day.drop(['Day', 'Month', 'Year'], axis =1)"
   ]
  },
  {
   "cell_type": "code",
   "execution_count": null,
   "metadata": {
    "ExecuteTime": {
     "end_time": "2021-06-18T07:35:25.636690Z",
     "start_time": "2021-06-18T07:35:20.828Z"
    }
   },
   "outputs": [],
   "source": [
    "df_per_day"
   ]
  },
  {
   "cell_type": "code",
   "execution_count": null,
   "metadata": {
    "ExecuteTime": {
     "end_time": "2021-06-18T07:35:25.639740Z",
     "start_time": "2021-06-18T07:35:20.831Z"
    }
   },
   "outputs": [],
   "source": [
    "df_per_day.describe()"
   ]
  },
  {
   "cell_type": "code",
   "execution_count": null,
   "metadata": {
    "ExecuteTime": {
     "end_time": "2021-06-18T07:35:25.642174Z",
     "start_time": "2021-06-18T07:35:20.833Z"
    }
   },
   "outputs": [],
   "source": [
    "corr = df_per_day.corr()\n",
    "mask = np.triu(np.ones_like(corr, dtype=bool))\n",
    "plt.figure(figsize=(8, 6))\n",
    "sns.heatmap(corr, mask=mask, vmin=-1,cmap='RdYlBu_r', vmax=1, square=True,\n",
    "            cbar_kws={\"shrink\": .75}, annot=True).set_title('Matrice de corrélation', fontsize=20);"
   ]
  },
  {
   "cell_type": "code",
   "execution_count": null,
   "metadata": {
    "ExecuteTime": {
     "end_time": "2021-06-18T07:35:25.644349Z",
     "start_time": "2021-06-18T07:35:20.835Z"
    }
   },
   "outputs": [],
   "source": [
    "sns.clustermap(corr, annot=True, figsize=(8,8));"
   ]
  },
  {
   "cell_type": "code",
   "execution_count": null,
   "metadata": {
    "ExecuteTime": {
     "end_time": "2021-06-18T07:35:25.650063Z",
     "start_time": "2021-06-18T07:35:20.837Z"
    }
   },
   "outputs": [],
   "source": [
    "import plotly.graph_objects as go\n",
    "from prophet import Prophet\n",
    "from prophet.plot import plot_plotly, plot_components_plotly\n",
    "import yfinance as yf"
   ]
  },
  {
   "cell_type": "code",
   "execution_count": null,
   "metadata": {
    "ExecuteTime": {
     "end_time": "2021-06-18T07:35:25.654021Z",
     "start_time": "2021-06-18T07:35:20.839Z"
    }
   },
   "outputs": [],
   "source": [
    "df_per_day.info()"
   ]
  },
  {
   "cell_type": "code",
   "execution_count": null,
   "metadata": {
    "ExecuteTime": {
     "end_time": "2021-06-18T07:35:25.656053Z",
     "start_time": "2021-06-18T07:35:20.841Z"
    }
   },
   "outputs": [],
   "source": [
    "df_opening_price = df_per_day[[\"Date\", \"AVG(OpeningPrice)\"]]\n",
    "\n",
    "new_names = {\n",
    "    \"Date\": \"ds\", \n",
    "    \"AVG(OpeningPrice)\": \"y\",\n",
    "}\n",
    "\n",
    "df_opening_price.rename(columns=new_names, inplace=True)"
   ]
  },
  {
   "cell_type": "code",
   "execution_count": null,
   "metadata": {
    "ExecuteTime": {
     "end_time": "2021-06-18T07:35:25.658875Z",
     "start_time": "2021-06-18T07:35:20.843Z"
    }
   },
   "outputs": [],
   "source": [
    "# plot the open price\n",
    "x = df_opening_price[\"ds\"]\n",
    "y = df_opening_price[\"y\"]\n",
    "\n",
    "fig = go.Figure()\n",
    "fig.add_trace(go.Scatter(x=x, y=y))# Set title\n",
    "fig.update_layout(\n",
    "    title_text=\"Time series plot of Ethereum Open Price\",\n",
    ")\n",
    "\n",
    "fig.update_layout(\n",
    "    xaxis=dict(\n",
    "        rangeselector=dict(\n",
    "            buttons=list(\n",
    "                [\n",
    "                    dict(count=1, label=\"1m\", step=\"month\", stepmode=\"backward\"),\n",
    "                    dict(count=6, label=\"6m\", step=\"month\", stepmode=\"backward\"),\n",
    "                    dict(count=1, label=\"YTD\", step=\"year\", stepmode=\"todate\"),\n",
    "                    dict(count=1, label=\"1y\", step=\"year\", stepmode=\"backward\"),\n",
    "                    dict(step=\"all\"),\n",
    "                ]\n",
    "            )\n",
    "        ),\n",
    "        rangeslider=dict(visible=True),\n",
    "        type=\"date\",\n",
    "    )\n",
    ")"
   ]
  },
  {
   "cell_type": "code",
   "execution_count": null,
   "metadata": {
    "ExecuteTime": {
     "end_time": "2021-06-18T07:35:25.659873Z",
     "start_time": "2021-06-18T07:35:20.846Z"
    }
   },
   "outputs": [],
   "source": [
    "model = Prophet(seasonality_mode=\"multiplicative\")\n",
    "\n",
    "model.fit(df_opening_price)"
   ]
  },
  {
   "cell_type": "code",
   "execution_count": null,
   "metadata": {
    "ExecuteTime": {
     "end_time": "2021-06-18T07:35:25.666721Z",
     "start_time": "2021-06-18T07:35:20.849Z"
    }
   },
   "outputs": [],
   "source": [
    "prediction = model.make_future_dataframe(periods = 365)\n",
    "prediction.tail()"
   ]
  },
  {
   "cell_type": "code",
   "execution_count": null,
   "metadata": {
    "ExecuteTime": {
     "end_time": "2021-06-18T07:35:25.668717Z",
     "start_time": "2021-06-18T07:35:20.851Z"
    }
   },
   "outputs": [],
   "source": [
    "forecast = model.predict(prediction)\n",
    "forecast[['ds', 'yhat', 'yhat_lower', 'yhat_upper']].tail()"
   ]
  },
  {
   "cell_type": "code",
   "execution_count": null,
   "metadata": {
    "ExecuteTime": {
     "end_time": "2021-06-18T07:35:25.670782Z",
     "start_time": "2021-06-18T07:35:20.853Z"
    }
   },
   "outputs": [],
   "source": [
    "from datetime import date\n",
    "from datetime import timedelta\n",
    "\n",
    "next_day = (date(2021, 1, 1)) + timedelta(days=1)\n",
    "forecast[forecast['ds'] == next_day]['yhat']\n",
    "\n",
    "plot_plotly(model, forecast)"
   ]
  },
  {
   "cell_type": "code",
   "execution_count": null,
   "metadata": {
    "ExecuteTime": {
     "end_time": "2021-06-18T07:35:25.673775Z",
     "start_time": "2021-06-18T07:35:20.856Z"
    }
   },
   "outputs": [],
   "source": [
    "data_total_2021 = pd.concat([data_1, data_2, data_3, data_4, data_5])\n",
    "data_total_2021.drop(columns=['Unix Timestamp', 'Symbol'], inplace=True)\n",
    "data_total_2021.columns = ['Date', 'OpeningPrice', 'HighestPrice', 'LowestPrice', 'ClosurePrice', 'VolumeETH']\n",
    "data_total_2021['OpenCloseDifference'] = data_total_2021[\"ClosurePrice\"] - data_total_2021[\"OpeningPrice\"]\n",
    "data_total_2021['HighLowDifference'] = data_total_2021[\"HighestPrice\"] - data_total_2021[\"LowestPrice\"]\n",
    "data_total_2021[\"Date and Hour\"] = data_total_2021['Date']\n",
    "data_total_2021[\"Date\"] = data_total_2021['Date and Hour'].str.split(\" \")\n",
    "data_total_2021['Hour'] = [i[1] for i in data_total_2021[\"Date\"]]\n",
    "data_total_2021['Date'] = [i[0] for i in data_total_2021[\"Date\"]]\n",
    "data_total_2021.drop(columns=\"Date and Hour\", inplace=True)\n",
    "data_total_2021['Date'] = data_total_2021['Date'].str.split(\"-\")\n",
    "data_total_2021['Day'] = [i[0] for i in data_total_2021[\"Date\"]]\n",
    "data_total_2021['Month'] = [i[1] for i in data_total_2021[\"Date\"]]\n",
    "data_total_2021['Year'] = [i[2] for i in data_total_2021[\"Date\"]]\n",
    "data_total_2021.drop(columns='Date', inplace=True)\n",
    "df_per_day_2021 = sqldf(\"\"\"SELECT AVG(OpeningPrice), \n",
    "                   MAX(HighestPrice),\n",
    "                   MIN(LowestPrice),\n",
    "                   AVG(ClosurePrice),\n",
    "                   SUM(VolumeETH),\n",
    "                   AVG(OpenCloseDifference),\n",
    "                   AVG(HighLowDifference),\n",
    "                   Day ,Month ,Year \n",
    "                   FROM data_total_2021 \n",
    "                   GROUP BY Day, Month, Year \n",
    "                   ORDER BY Year, Month\"\"\")\n",
    "\n",
    "df_per_day_2021.loc[0, 'MIN(LowestPrice)'] = 9.36\n",
    "df_per_day_2021['Date'] = df_per_day_2021[\"Month\"].map(str) + \"/\" + df_per_day_2021[\"Day\"]+ \"/\" + df_per_day_2021[\"Year\"]\n",
    "df_per_day_2021['Date'] = pd.to_datetime(df_per_day_2021['Date'], format=\"%m/%d/%Y\")\n",
    "df_per_day_2021 = df_per_day_2021.drop(['Day', 'Month', 'Year'], axis =1)"
   ]
  },
  {
   "cell_type": "code",
   "execution_count": null,
   "metadata": {
    "ExecuteTime": {
     "end_time": "2021-06-18T07:35:25.675817Z",
     "start_time": "2021-06-18T07:35:20.858Z"
    }
   },
   "outputs": [],
   "source": [
    "df_opening_price_2021 = df_per_day_2021[[\"Date\", \"AVG(OpeningPrice)\"]]\n",
    "\n",
    "new_names = {\n",
    "    \"Date\": \"ds\", \n",
    "    \"AVG(OpeningPrice)\": \"y\",\n",
    "}\n",
    "\n",
    "df_opening_price_2021.rename(columns=new_names, inplace=True)"
   ]
  },
  {
   "cell_type": "code",
   "execution_count": null,
   "metadata": {
    "ExecuteTime": {
     "end_time": "2021-06-18T07:35:25.676816Z",
     "start_time": "2021-06-18T07:35:20.860Z"
    }
   },
   "outputs": [],
   "source": [
    "model_2021 = Prophet(seasonality_mode=\"multiplicative\")\n",
    "model_2021.fit(df_opening_price_2021)"
   ]
  },
  {
   "cell_type": "code",
   "execution_count": null,
   "metadata": {
    "ExecuteTime": {
     "end_time": "2021-06-18T07:35:25.679887Z",
     "start_time": "2021-06-18T07:35:20.862Z"
    }
   },
   "outputs": [],
   "source": [
    "prediction_1 = model_2021.make_future_dataframe(periods = 365)"
   ]
  },
  {
   "cell_type": "code",
   "execution_count": null,
   "metadata": {
    "ExecuteTime": {
     "end_time": "2021-06-18T07:35:25.681947Z",
     "start_time": "2021-06-18T07:35:20.864Z"
    }
   },
   "outputs": [],
   "source": [
    "forecast_1 = model_2021.predict(prediction_1)\n",
    "forecast_1[['ds', 'yhat', 'yhat_lower', 'yhat_upper']].tail()"
   ]
  },
  {
   "cell_type": "code",
   "execution_count": null,
   "metadata": {
    "ExecuteTime": {
     "end_time": "2021-06-18T07:35:25.684559Z",
     "start_time": "2021-06-18T07:35:20.866Z"
    }
   },
   "outputs": [],
   "source": [
    "from datetime import date\n",
    "from datetime import timedelta\n",
    "\n",
    "next_day_1 = (datetime.today() + timedelta(days=1)).strftime('%Y-%m-%d')\n",
    "forecast_1[forecast_1['ds'] == next_day_1]['yhat'].item()\n",
    "\n",
    "plot_plotly(model_2021, forecast_1)"
   ]
  },
  {
   "cell_type": "code",
   "execution_count": null,
   "metadata": {
    "ExecuteTime": {
     "end_time": "2021-06-18T07:35:25.686798Z",
     "start_time": "2021-06-18T07:35:20.868Z"
    }
   },
   "outputs": [],
   "source": [
    "from datetime import date\n",
    "from datetime import timedelta\n",
    "\n",
    "next_day = (date(2021, 1, 1)) + timedelta(days=1)\n",
    "forecast[forecast['ds'] == next_day]['yhat']\n",
    "\n",
    "plot_plotly(model, forecast)"
   ]
  },
  {
   "cell_type": "code",
   "execution_count": null,
   "metadata": {},
   "outputs": [],
   "source": []
  }
 ],
 "metadata": {
  "kernelspec": {
   "display_name": "Python 3",
   "language": "python",
   "name": "python3"
  },
  "language_info": {
   "codemirror_mode": {
    "name": "ipython",
    "version": 3
   },
   "file_extension": ".py",
   "mimetype": "text/x-python",
   "name": "python",
   "nbconvert_exporter": "python",
   "pygments_lexer": "ipython3",
   "version": "3.8.8"
  },
  "latex_envs": {
   "LaTeX_envs_menu_present": true,
   "autoclose": false,
   "autocomplete": true,
   "bibliofile": "biblio.bib",
   "cite_by": "apalike",
   "current_citInitial": 1,
   "eqLabelWithNumbers": true,
   "eqNumInitial": 1,
   "hotkeys": {
    "equation": "Ctrl-E",
    "itemize": "Ctrl-I"
   },
   "labels_anchors": false,
   "latex_user_defs": false,
   "report_style_numbering": false,
   "user_envs_cfg": false
  },
  "toc": {
   "base_numbering": 1,
   "nav_menu": {},
   "number_sections": true,
   "sideBar": true,
   "skip_h1_title": false,
   "title_cell": "Table of Contents",
   "title_sidebar": "Contents",
   "toc_cell": false,
   "toc_position": {},
   "toc_section_display": true,
   "toc_window_display": false
  },
  "varInspector": {
   "cols": {
    "lenName": 16,
    "lenType": 16,
    "lenVar": 40
   },
   "kernels_config": {
    "python": {
     "delete_cmd_postfix": "",
     "delete_cmd_prefix": "del ",
     "library": "var_list.py",
     "varRefreshCmd": "print(var_dic_list())"
    },
    "r": {
     "delete_cmd_postfix": ") ",
     "delete_cmd_prefix": "rm(",
     "library": "var_list.r",
     "varRefreshCmd": "cat(var_dic_list()) "
    }
   },
   "types_to_exclude": [
    "module",
    "function",
    "builtin_function_or_method",
    "instance",
    "_Feature"
   ],
   "window_display": false
  }
 },
 "nbformat": 4,
 "nbformat_minor": 4
}
