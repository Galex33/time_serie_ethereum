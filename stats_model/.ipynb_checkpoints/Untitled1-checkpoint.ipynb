{
 "cells": [
  {
   "cell_type": "code",
   "execution_count": 8,
   "id": "dc9bec46",
   "metadata": {
    "ExecuteTime": {
     "end_time": "2021-06-22T11:35:38.553559Z",
     "start_time": "2021-06-22T11:35:38.528625Z"
    }
   },
   "outputs": [],
   "source": [
    "from f_global import *\n",
    "import numpy as np\n",
    "import pandas as pd\n"
   ]
  },
  {
   "cell_type": "code",
   "execution_count": 9,
   "id": "41361e5f",
   "metadata": {
    "ExecuteTime": {
     "end_time": "2021-06-22T11:35:39.612486Z",
     "start_time": "2021-06-22T11:35:39.558628Z"
    }
   },
   "outputs": [],
   "source": [
    "ethereum_day = read_copy_csv(\"data/ethereum_day_clean.csv\", parse_dates_bool=True, index_col= 'Date')"
   ]
  },
  {
   "cell_type": "code",
   "execution_count": 12,
   "id": "e27aad8a",
   "metadata": {
    "ExecuteTime": {
     "end_time": "2021-06-22T11:36:20.588836Z",
     "start_time": "2021-06-22T11:36:20.286640Z"
    }
   },
   "outputs": [
    {
     "name": "stdout",
     "output_type": "stream",
     "text": [
      "1. ADF :  4.728394621279182\n",
      "2. P-Value :  1.0\n",
      "3. Num Of Lags :  25\n",
      "4. Num Of Observations Used For ADF Regression: 1802\n",
      "5. Critical Values :\n",
      "\t 1% :  -3.4339840952648695\n",
      "\t 5% :  -2.8631452508003057\n",
      "\t 10% :  -2.567624583142913\n"
     ]
    }
   ],
   "source": [
    "from statsmodels.tsa.stattools import adfuller\n",
    "\n",
    "def ad_test(dataset):\n",
    "     dftest = adfuller(dataset, autolag = 'AIC')\n",
    "     print(\"1. ADF : \",dftest[0])\n",
    "     print(\"2. P-Value : \", dftest[1])\n",
    "     print(\"3. Num Of Lags : \", dftest[2])\n",
    "     print(\"4. Num Of Observations Used For ADF Regression:\",      dftest[3])\n",
    "     print(\"5. Critical Values :\")\n",
    "     for key, val in dftest[4].items():\n",
    "         print(\"\\t\",key, \": \", val)\n",
    "        \n",
    "ad_test(ethereum_day['Opening_Price_ETH'])"
   ]
  },
  {
   "cell_type": "code",
   "execution_count": 13,
   "id": "0c44156e",
   "metadata": {
    "ExecuteTime": {
     "end_time": "2021-06-22T11:39:19.286250Z",
     "start_time": "2021-06-22T11:38:53.131760Z"
    }
   },
   "outputs": [
    {
     "name": "stdout",
     "output_type": "stream",
     "text": [
      "Performing stepwise search to minimize aic\n",
      " ARIMA(2,2,2)(0,0,0)[0]             : AIC=18016.400, Time=5.45 sec\n",
      " ARIMA(0,2,0)(0,0,0)[0]             : AIC=19240.968, Time=0.23 sec\n",
      " ARIMA(1,2,0)(0,0,0)[0]             : AIC=18633.269, Time=1.00 sec\n",
      " ARIMA(0,2,1)(0,0,0)[0]             : AIC=18013.033, Time=1.13 sec\n",
      " ARIMA(1,2,1)(0,0,0)[0]             : AIC=18013.364, Time=1.75 sec\n",
      " ARIMA(0,2,2)(0,0,0)[0]             : AIC=18013.437, Time=1.22 sec\n",
      " ARIMA(1,2,2)(0,0,0)[0]             : AIC=18014.838, Time=1.66 sec\n",
      " ARIMA(0,2,1)(0,0,0)[0] intercept   : AIC=18013.864, Time=2.34 sec\n",
      "\n",
      "Best model:  ARIMA(0,2,1)(0,0,0)[0]          \n",
      "Total fit time: 14.819 seconds\n"
     ]
    }
   ],
   "source": [
    "from pmdarima import auto_arima\n",
    "stepwise_fit = auto_arima(ethereum_day['Opening_Price_ETH'], trace=True,\n",
    "suppress_warnings=True)"
   ]
  },
  {
   "cell_type": "code",
   "execution_count": 15,
   "id": "ef6035e4",
   "metadata": {
    "ExecuteTime": {
     "end_time": "2021-06-22T11:42:49.616500Z",
     "start_time": "2021-06-22T11:42:49.588570Z"
    }
   },
   "outputs": [
    {
     "name": "stdout",
     "output_type": "stream",
     "text": [
      "(1828,)\n",
      "(1748, 5) (80, 5)\n"
     ]
    }
   ],
   "source": [
    "print(df.shape) \n",
    "train=ethereum_day.iloc[:-80] \n",
    "test=ethereum_day.iloc[-80:] \n",
    "print(train.shape,test.shape)"
   ]
  },
  {
   "cell_type": "code",
   "execution_count": 18,
   "id": "b313c6b7",
   "metadata": {
    "ExecuteTime": {
     "end_time": "2021-06-22T11:43:49.804429Z",
     "start_time": "2021-06-22T11:43:47.963351Z"
    }
   },
   "outputs": [
    {
     "name": "stderr",
     "output_type": "stream",
     "text": [
      "C:\\Users\\utilisateur\\anaconda3\\lib\\site-packages\\statsmodels\\tsa\\base\\tsa_model.py:524: ValueWarning: No frequency information was provided, so inferred frequency D will be used.\n",
      "  warnings.warn('No frequency information was'\n",
      "C:\\Users\\utilisateur\\anaconda3\\lib\\site-packages\\statsmodels\\tsa\\base\\tsa_model.py:524: ValueWarning: No frequency information was provided, so inferred frequency D will be used.\n",
      "  warnings.warn('No frequency information was'\n"
     ]
    },
    {
     "data": {
      "text/html": [
       "<table class=\"simpletable\">\n",
       "<caption>ARIMA Model Results</caption>\n",
       "<tr>\n",
       "  <th>Dep. Variable:</th> <td>D2.Opening_Price_ETH</td> <th>  No. Observations:  </th>   <td>1746</td>   \n",
       "</tr>\n",
       "<tr>\n",
       "  <th>Model:</th>            <td>ARIMA(0, 2, 1)</td>    <th>  Log Likelihood     </th> <td>-8175.094</td>\n",
       "</tr>\n",
       "<tr>\n",
       "  <th>Method:</th>               <td>css-mle</td>       <th>  S.D. of innovations</th>  <td>26.105</td>  \n",
       "</tr>\n",
       "<tr>\n",
       "  <th>Date:</th>            <td>Tue, 22 Jun 2021</td>   <th>  AIC                </th> <td>16356.189</td>\n",
       "</tr>\n",
       "<tr>\n",
       "  <th>Time:</th>                <td>13:43:49</td>       <th>  BIC                </th> <td>16372.584</td>\n",
       "</tr>\n",
       "<tr>\n",
       "  <th>Sample:</th>             <td>05-11-2016</td>      <th>  HQIC               </th> <td>16362.250</td>\n",
       "</tr>\n",
       "<tr>\n",
       "  <th></th>                   <td>- 02-19-2021</td>     <th>                     </th>     <td> </td>    \n",
       "</tr>\n",
       "</table>\n",
       "<table class=\"simpletable\">\n",
       "<tr>\n",
       "               <td></td>                 <th>coef</th>     <th>std err</th>      <th>z</th>      <th>P>|z|</th>  <th>[0.025</th>    <th>0.975]</th>  \n",
       "</tr>\n",
       "<tr>\n",
       "  <th>const</th>                      <td>    0.0072</td> <td>    0.007</td> <td>    1.003</td> <td> 0.316</td> <td>   -0.007</td> <td>    0.021</td>\n",
       "</tr>\n",
       "<tr>\n",
       "  <th>ma.L1.D2.Opening_Price_ETH</th> <td>   -0.9894</td> <td>    0.004</td> <td> -221.695</td> <td> 0.000</td> <td>   -0.998</td> <td>   -0.981</td>\n",
       "</tr>\n",
       "</table>\n",
       "<table class=\"simpletable\">\n",
       "<caption>Roots</caption>\n",
       "<tr>\n",
       "    <td></td>   <th>            Real</th>  <th>         Imaginary</th> <th>         Modulus</th>  <th>        Frequency</th>\n",
       "</tr>\n",
       "<tr>\n",
       "  <th>MA.1</th> <td>           1.0107</td> <td>          +0.0000j</td> <td>           1.0107</td> <td>           0.0000</td>\n",
       "</tr>\n",
       "</table>"
      ],
      "text/plain": [
       "<class 'statsmodels.iolib.summary.Summary'>\n",
       "\"\"\"\n",
       "                              ARIMA Model Results                               \n",
       "================================================================================\n",
       "Dep. Variable:     D2.Opening_Price_ETH   No. Observations:                 1746\n",
       "Model:                   ARIMA(0, 2, 1)   Log Likelihood               -8175.094\n",
       "Method:                         css-mle   S.D. of innovations             26.105\n",
       "Date:                  Tue, 22 Jun 2021   AIC                          16356.189\n",
       "Time:                          13:43:49   BIC                          16372.584\n",
       "Sample:                      05-11-2016   HQIC                         16362.250\n",
       "                           - 02-19-2021                                         \n",
       "==============================================================================================\n",
       "                                 coef    std err          z      P>|z|      [0.025      0.975]\n",
       "----------------------------------------------------------------------------------------------\n",
       "const                          0.0072      0.007      1.003      0.316      -0.007       0.021\n",
       "ma.L1.D2.Opening_Price_ETH    -0.9894      0.004   -221.695      0.000      -0.998      -0.981\n",
       "                                    Roots                                    \n",
       "=============================================================================\n",
       "                  Real          Imaginary           Modulus         Frequency\n",
       "-----------------------------------------------------------------------------\n",
       "MA.1            1.0107           +0.0000j            1.0107            0.0000\n",
       "-----------------------------------------------------------------------------\n",
       "\"\"\""
      ]
     },
     "execution_count": 18,
     "metadata": {},
     "output_type": "execute_result"
    }
   ],
   "source": [
    "from statsmodels.tsa.arima_model import ARIMA \n",
    "model=ARIMA(train['Opening_Price_ETH'],order=(0,2,1)) \n",
    "model=model.fit() \n",
    "model.summary()"
   ]
  },
  {
   "cell_type": "code",
   "execution_count": 24,
   "id": "9df3c066",
   "metadata": {
    "ExecuteTime": {
     "end_time": "2021-06-22T11:46:03.897077Z",
     "start_time": "2021-06-22T11:46:01.572505Z"
    }
   },
   "outputs": [
    {
     "data": {
      "image/png": "[encoded data removed]",
      "text/plain": [
       "<Figure size 432x288 with 1 Axes>"
      ]
     },
     "metadata": {
      "needs_background": "light"
     },
     "output_type": "display_data"
    }
   ],
   "source": [
    "start=len(train)\n",
    "end=len(train)+len(test)-1\n",
    "pred=model.predict(start=start,end=end,typ='levels').rename('ARIMA Predictions')\n",
    "pred.plot(legend=True)\n",
    "test['Opening_Price_ETH'].plot(legend=True);"
   ]
  },
  {
   "cell_type": "code",
   "execution_count": 30,
   "id": "d35589ec",
   "metadata": {
    "ExecuteTime": {
     "end_time": "2021-06-22T11:50:55.107651Z",
     "start_time": "2021-06-22T11:50:55.088700Z"
    }
   },
   "outputs": [
    {
     "name": "stdout",
     "output_type": "stream",
     "text": [
      "466.94001652692276$\n"
     ]
    }
   ],
   "source": [
    "from sklearn.metrics import mean_squared_error\n",
    "from math import sqrt\n",
    "test['Opening_Price_ETH'].mean()\n",
    "rmse=sqrt(mean_squared_error(pred,test['Opening_Price_ETH']))\n",
    "print(f'{rmse}$')\n"
   ]
  },
  {
   "cell_type": "code",
   "execution_count": null,
   "id": "1352ff51",
   "metadata": {},
   "outputs": [],
   "source": [
    "\n",
    "\n"
   ]
  }
 ],
 "metadata": {
  "kernelspec": {
   "display_name": "Python 3",
   "language": "python",
   "name": "python3"
  },
  "language_info": {
   "codemirror_mode": {
    "name": "ipython",
    "version": 3
   },
   "file_extension": ".py",
   "mimetype": "text/x-python",
   "name": "python",
   "nbconvert_exporter": "python",
   "pygments_lexer": "ipython3",
   "version": "3.8.8"
  },
  "toc": {
   "base_numbering": 1,
   "nav_menu": {},
   "number_sections": true,
   "sideBar": true,
   "skip_h1_title": false,
   "title_cell": "Table of Contents",
   "title_sidebar": "Contents",
   "toc_cell": false,
   "toc_position": {},
   "toc_section_display": true,
   "toc_window_display": false
  }
 },
 "nbformat": 4,
 "nbformat_minor": 5
}
