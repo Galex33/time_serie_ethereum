{
 "cells": [
  {
   "cell_type": "code",
   "execution_count": null,
   "metadata": {
    "ExecuteTime": {
     "start_time": "2021-06-28T07:39:57.018Z"
    }
   },
   "outputs": [
    {
     "name": "stdout",
     "output_type": "stream",
     "text": [
      "Collecting pyramid-arima\n",
      "  Using cached pyramid-arima-0.8.1.tar.gz (515 kB)\n",
      "Requirement already satisfied: Cython>=0.23 in /Users/thor/opt/anaconda3/lib/python3.8/site-packages (from pyramid-arima) (0.29.21)\n",
      "Requirement already satisfied: numpy>=1.10 in /Users/thor/opt/anaconda3/lib/python3.8/site-packages (from pyramid-arima) (1.19.2)\n",
      "Requirement already satisfied: scipy>=0.9 in /Users/thor/opt/anaconda3/lib/python3.8/site-packages (from pyramid-arima) (1.5.2)\n",
      "Requirement already satisfied: scikit-learn>=0.17 in /Users/thor/.local/lib/python3.8/site-packages (from pyramid-arima) (0.24.2)\n",
      "Requirement already satisfied: pandas>=0.19 in /Users/thor/opt/anaconda3/lib/python3.8/site-packages (from pyramid-arima) (1.1.3)\n",
      "Requirement already satisfied: statsmodels>=0.9.0 in /Users/thor/opt/anaconda3/lib/python3.8/site-packages (from pyramid-arima) (0.12.2)\n",
      "Requirement already satisfied: pytz>=2017.2 in /Users/thor/opt/anaconda3/lib/python3.8/site-packages (from pandas>=0.19->pyramid-arima) (2020.1)\n",
      "Requirement already satisfied: python-dateutil>=2.7.3 in /Users/thor/opt/anaconda3/lib/python3.8/site-packages (from pandas>=0.19->pyramid-arima) (2.8.1)\n",
      "Requirement already satisfied: six>=1.5 in /Users/thor/opt/anaconda3/lib/python3.8/site-packages (from python-dateutil>=2.7.3->pandas>=0.19->pyramid-arima) (1.15.0)\n",
      "Requirement already satisfied: threadpoolctl>=2.0.0 in /Users/thor/opt/anaconda3/lib/python3.8/site-packages (from scikit-learn>=0.17->pyramid-arima) (2.1.0)\n",
      "Requirement already satisfied: joblib>=0.11 in /Users/thor/opt/anaconda3/lib/python3.8/site-packages (from scikit-learn>=0.17->pyramid-arima) (0.17.0)\n",
      "Requirement already satisfied: patsy>=0.5 in /Users/thor/opt/anaconda3/lib/python3.8/site-packages (from statsmodels>=0.9.0->pyramid-arima) (0.5.1)\n",
      "Building wheels for collected packages: pyramid-arima\n",
      "  Building wheel for pyramid-arima (setup.py) ... \u001b[?25lerror\n",
      "\u001b[31m  ERROR: Command errored out with exit status 1:\n",
      "   command: /Users/thor/opt/anaconda3/bin/python -u -c 'import sys, setuptools, tokenize; sys.argv[0] = '\"'\"'/private/var/folders/ww/f8_yp6ds7ylb0jkxsxj285vc0000gp/T/pip-install-hj_77dis/pyramid-arima_7540e59f4e24444fb301ed4b65615012/setup.py'\"'\"'; __file__='\"'\"'/private/var/folders/ww/f8_yp6ds7ylb0jkxsxj285vc0000gp/T/pip-install-hj_77dis/pyramid-arima_7540e59f4e24444fb301ed4b65615012/setup.py'\"'\"';f=getattr(tokenize, '\"'\"'open'\"'\"', open)(__file__);code=f.read().replace('\"'\"'\\r\\n'\"'\"', '\"'\"'\\n'\"'\"');f.close();exec(compile(code, __file__, '\"'\"'exec'\"'\"'))' bdist_wheel -d /private/var/folders/ww/f8_yp6ds7ylb0jkxsxj285vc0000gp/T/pip-wheel-_l8uhqer\n",
      "       cwd: /private/var/folders/ww/f8_yp6ds7ylb0jkxsxj285vc0000gp/T/pip-install-hj_77dis/pyramid-arima_7540e59f4e24444fb301ed4b65615012/\n",
      "  Complete output (291 lines):\n",
      "  Partial import of pyramid during the build process.\n",
      "  Requirements: ['Cython>=0.23', 'numpy>=1.10', 'scipy>=0.9', 'scikit-learn>=0.17', 'pandas>=0.19', 'statsmodels>=0.9.0']\n",
      "  Adding extra setuptools args\n",
      "  /Users/thor/opt/anaconda3/lib/python3.8/site-packages/setuptools/dist.py:642: UserWarning: Usage of dash-separated 'description-file' will not be supported in future versions. Please use the underscore name 'description_file' instead\n",
      "    warnings.warn(\n",
      "  blas_opt_info:\n",
      "  blas_mkl_info:\n",
      "  customize UnixCCompiler\n",
      "    FOUND:\n",
      "      libraries = ['mkl_rt', 'pthread']\n",
      "      library_dirs = ['/Users/thor/opt/anaconda3/lib']\n",
      "      define_macros = [('SCIPY_MKL_H', None), ('HAVE_CBLAS', None)]\n",
      "      include_dirs = ['/Users/thor/opt/anaconda3/include']\n",
      "  \n",
      "    FOUND:\n",
      "      libraries = ['mkl_rt', 'pthread']\n",
      "      library_dirs = ['/Users/thor/opt/anaconda3/lib']\n",
      "      define_macros = [('SCIPY_MKL_H', None), ('HAVE_CBLAS', None)]\n",
      "      include_dirs = ['/Users/thor/opt/anaconda3/include']\n",
      "  \n",
      "  running bdist_wheel\n",
      "  running build\n",
      "  running config_cc\n",
      "  unifing config_cc, config, build_clib, build_ext, build commands --compiler options\n",
      "  running config_fc\n",
      "  unifing config_fc, config, build_clib, build_ext, build commands --fcompiler options\n",
      "  running build_src\n",
      "  build_src\n",
      "  building extension \"pyramid.__check_build._check_build\" sources\n",
      "  building extension \"pyramid.arima._arima\" sources\n",
      "  build_src: building npy-pkg config files\n",
      "  running build_py\n",
      "  creating build\n",
      "  creating build/lib.macosx-10.9-x86_64-3.8\n",
      "  creating build/lib.macosx-10.9-x86_64-3.8/pyramid\n",
      "  copying pyramid/__init__.py -> build/lib.macosx-10.9-x86_64-3.8/pyramid\n",
      "  copying pyramid/setup.py -> build/lib.macosx-10.9-x86_64-3.8/pyramid\n",
      "  copying pyramid/_config.py -> build/lib.macosx-10.9-x86_64-3.8/pyramid\n",
      "  creating build/lib.macosx-10.9-x86_64-3.8/pyramid/__check_build\n",
      "  copying pyramid/__check_build/__init__.py -> build/lib.macosx-10.9-x86_64-3.8/pyramid/__check_build\n",
      "  copying pyramid/__check_build/setup.py -> build/lib.macosx-10.9-x86_64-3.8/pyramid/__check_build\n",
      "  creating build/lib.macosx-10.9-x86_64-3.8/pyramid/__check_build/tests\n",
      "  copying pyramid/__check_build/tests/__init__.py -> build/lib.macosx-10.9-x86_64-3.8/pyramid/__check_build/tests\n",
      "  copying pyramid/__check_build/tests/test_check_build.py -> build/lib.macosx-10.9-x86_64-3.8/pyramid/__check_build/tests\n",
      "  creating build/lib.macosx-10.9-x86_64-3.8/pyramid/_build_utils\n",
      "  copying pyramid/_build_utils/__init__.py -> build/lib.macosx-10.9-x86_64-3.8/pyramid/_build_utils\n",
      "  creating build/lib.macosx-10.9-x86_64-3.8/pyramid/_build_utils/tests\n",
      "  copying pyramid/_build_utils/tests/__init__.py -> build/lib.macosx-10.9-x86_64-3.8/pyramid/_build_utils/tests\n",
      "  creating build/lib.macosx-10.9-x86_64-3.8/pyramid/compat\n",
      "  copying pyramid/compat/matplotlib.py -> build/lib.macosx-10.9-x86_64-3.8/pyramid/compat\n",
      "  copying pyramid/compat/pandas.py -> build/lib.macosx-10.9-x86_64-3.8/pyramid/compat\n",
      "  copying pyramid/compat/__init__.py -> build/lib.macosx-10.9-x86_64-3.8/pyramid/compat\n",
      "  copying pyramid/compat/numpy.py -> build/lib.macosx-10.9-x86_64-3.8/pyramid/compat\n",
      "  copying pyramid/compat/python.py -> build/lib.macosx-10.9-x86_64-3.8/pyramid/compat\n",
      "  creating build/lib.macosx-10.9-x86_64-3.8/pyramid/compat/tests\n",
      "  copying pyramid/compat/tests/__init__.py -> build/lib.macosx-10.9-x86_64-3.8/pyramid/compat/tests\n",
      "  copying pyramid/compat/tests/test_compat.py -> build/lib.macosx-10.9-x86_64-3.8/pyramid/compat/tests\n",
      "  creating build/lib.macosx-10.9-x86_64-3.8/pyramid/datasets\n",
      "  copying pyramid/datasets/wineind.py -> build/lib.macosx-10.9-x86_64-3.8/pyramid/datasets\n",
      "  copying pyramid/datasets/heartrate.py -> build/lib.macosx-10.9-x86_64-3.8/pyramid/datasets\n",
      "  copying pyramid/datasets/__init__.py -> build/lib.macosx-10.9-x86_64-3.8/pyramid/datasets\n",
      "  copying pyramid/datasets/woolyrnq.py -> build/lib.macosx-10.9-x86_64-3.8/pyramid/datasets\n",
      "  copying pyramid/datasets/lynx.py -> build/lib.macosx-10.9-x86_64-3.8/pyramid/datasets\n",
      "  creating build/lib.macosx-10.9-x86_64-3.8/pyramid/utils\n",
      "  copying pyramid/utils/wrapped.py -> build/lib.macosx-10.9-x86_64-3.8/pyramid/utils\n",
      "  copying pyramid/utils/__init__.py -> build/lib.macosx-10.9-x86_64-3.8/pyramid/utils\n",
      "  copying pyramid/utils/visualization.py -> build/lib.macosx-10.9-x86_64-3.8/pyramid/utils\n",
      "  copying pyramid/utils/metaestimators.py -> build/lib.macosx-10.9-x86_64-3.8/pyramid/utils\n",
      "  copying pyramid/utils/testing.py -> build/lib.macosx-10.9-x86_64-3.8/pyramid/utils\n",
      "  copying pyramid/utils/array.py -> build/lib.macosx-10.9-x86_64-3.8/pyramid/utils\n",
      "  creating build/lib.macosx-10.9-x86_64-3.8/pyramid/utils/tests\n",
      "  copying pyramid/utils/tests/test_vis.py -> build/lib.macosx-10.9-x86_64-3.8/pyramid/utils/tests\n",
      "  copying pyramid/utils/tests/test_array.py -> build/lib.macosx-10.9-x86_64-3.8/pyramid/utils/tests\n",
      "  copying pyramid/utils/tests/test_wrapped.py -> build/lib.macosx-10.9-x86_64-3.8/pyramid/utils/tests\n",
      "  copying pyramid/utils/tests/__init__.py -> build/lib.macosx-10.9-x86_64-3.8/pyramid/utils/tests\n",
      "  copying pyramid/utils/tests/test_meta.py -> build/lib.macosx-10.9-x86_64-3.8/pyramid/utils/tests\n",
      "  copying pyramid/utils/tests/test_testing.py -> build/lib.macosx-10.9-x86_64-3.8/pyramid/utils/tests\n",
      "  creating build/lib.macosx-10.9-x86_64-3.8/pyramid/arima\n",
      "  copying pyramid/arima/approx.py -> build/lib.macosx-10.9-x86_64-3.8/pyramid/arima\n",
      "  copying pyramid/arima/stationarity.py -> build/lib.macosx-10.9-x86_64-3.8/pyramid/arima\n",
      "  copying pyramid/arima/warnings.py -> build/lib.macosx-10.9-x86_64-3.8/pyramid/arima\n",
      "  copying pyramid/arima/__init__.py -> build/lib.macosx-10.9-x86_64-3.8/pyramid/arima\n",
      "  copying pyramid/arima/setup.py -> build/lib.macosx-10.9-x86_64-3.8/pyramid/arima\n",
      "  copying pyramid/arima/utils.py -> build/lib.macosx-10.9-x86_64-3.8/pyramid/arima\n",
      "  copying pyramid/arima/seasonality.py -> build/lib.macosx-10.9-x86_64-3.8/pyramid/arima\n",
      "  copying pyramid/arima/arima.py -> build/lib.macosx-10.9-x86_64-3.8/pyramid/arima\n",
      "  copying pyramid/arima/auto.py -> build/lib.macosx-10.9-x86_64-3.8/pyramid/arima\n",
      "  creating build/lib.macosx-10.9-x86_64-3.8/pyramid/arima/tests\n",
      "  copying pyramid/arima/tests/__init__.py -> build/lib.macosx-10.9-x86_64-3.8/pyramid/arima/tests\n",
      "  copying pyramid/arima/tests/test_arima.py -> build/lib.macosx-10.9-x86_64-3.8/pyramid/arima/tests\n",
      "  copying pyramid/arima/tests/test_c_arima.py -> build/lib.macosx-10.9-x86_64-3.8/pyramid/arima/tests\n",
      "  copying pyramid/arima/tests/test_approx.py -> build/lib.macosx-10.9-x86_64-3.8/pyramid/arima/tests\n",
      "  copying pyramid/arima/tests/test_stationarity.py -> build/lib.macosx-10.9-x86_64-3.8/pyramid/arima/tests\n",
      "  running build_ext\n",
      "  customize UnixCCompiler\n",
      "  customize UnixCCompiler using build_ext\n",
      "  building 'pyramid.__check_build._check_build' extension\n",
      "  compiling C sources\n",
      "  C compiler: x86_64-apple-darwin13.4.0-clang -fno-strict-aliasing -Wsign-compare -Wunreachable-code -DNDEBUG -fwrapv -O3 -Wall -Wstrict-prototypes -march=core2 -mtune=haswell -mssse3 -ftree-vectorize -fPIC -fPIE -fstack-protector-strong -O3 -pipe -fdebug-prefix-map=${SRC_DIR}=/usr/local/src/conda/${PKG_NAME}-${PKG_VERSION} -fdebug-prefix-map=/Users/thor/opt/anaconda3=/usr/local/src/conda-prefix -flto -Wl,-export_dynamic -march=core2 -mtune=haswell -mssse3 -ftree-vectorize -fPIC -fPIE -fstack-protector-strong -O3 -march=core2 -mtune=haswell -mssse3 -ftree-vectorize -fPIC -fPIE -fstack-protector-strong -O2 -pipe -isystem /Users/thor/opt/anaconda3/include -D_FORTIFY_SOURCE=2 -mmacosx-version-min=10.9 -isystem /Users/thor/opt/anaconda3/include\n",
      "  \n",
      "  creating build/temp.macosx-10.9-x86_64-3.8/pyramid\n",
      "  creating build/temp.macosx-10.9-x86_64-3.8/pyramid/__check_build\n",
      "  compile options: '-I/Users/thor/opt/anaconda3/lib/python3.8/site-packages/numpy/core/include -I/Users/thor/opt/anaconda3/lib/python3.8/site-packages/numpy/core/include -I/Users/thor/opt/anaconda3/include/python3.8 -c'\n",
      "  x86_64-apple-darwin13.4.0-clang: pyramid/__check_build/_check_build.c\n",
      "  clang-9: warning: -Wl,-export_dynamic: 'linker' input unused [-Wunused-command-line-argument]\n",
      "  pyramid/__check_build/_check_build.c:1495:28: warning: unused function '__Pyx_PyObject_AsString' [-Wunused-function]\n",
      "  static CYTHON_INLINE char* __Pyx_PyObject_AsString(PyObject* o) {\n",
      "                             ^\n",
      "  pyramid/__check_build/_check_build.c:1492:32: warning: unused function '__Pyx_PyUnicode_FromString' [-Wunused-function]\n",
      "  static CYTHON_INLINE PyObject* __Pyx_PyUnicode_FromString(const char* c_str) {\n",
      "                                 ^\n",
      "  pyramid/__check_build/_check_build.c:1557:26: warning: unused function '__Pyx_PyObject_IsTrue' [-Wunused-function]\n",
      "  static CYTHON_INLINE int __Pyx_PyObject_IsTrue(PyObject* x) {\n",
      "                           ^\n",
      "  pyramid/__check_build/_check_build.c:1607:33: warning: unused function '__Pyx_PyIndex_AsSsize_t' [-Wunused-function]\n",
      "  static CYTHON_INLINE Py_ssize_t __Pyx_PyIndex_AsSsize_t(PyObject* b) {\n",
      "                                  ^\n",
      "  pyramid/__check_build/_check_build.c:1669:33: warning: unused function '__Pyx_PyInt_FromSize_t' [-Wunused-function]\n",
      "  static CYTHON_INLINE PyObject * __Pyx_PyInt_FromSize_t(size_t ival) {\n",
      "                                  ^\n",
      "  pyramid/__check_build/_check_build.c:1027:32: warning: unused function '__Pyx_PyInt_From_long' [-Wunused-function]\n",
      "  static CYTHON_INLINE PyObject* __Pyx_PyInt_From_long(long value) {\n",
      "                                 ^\n",
      "  pyramid/__check_build/_check_build.c:1076:27: warning: function '__Pyx_PyInt_As_long' is not needed and will not be emitted [-Wunneeded-internal-declaration]\n",
      "  static CYTHON_INLINE long __Pyx_PyInt_As_long(PyObject *x) {\n",
      "                            ^\n",
      "  pyramid/__check_build/_check_build.c:1261:26: warning: function '__Pyx_PyInt_As_int' is not needed and will not be emitted [-Wunneeded-internal-declaration]\n",
      "  static CYTHON_INLINE int __Pyx_PyInt_As_int(PyObject *x) {\n",
      "                           ^\n",
      "  8 warnings generated.\n",
      "  x86_64-apple-darwin13.4.0-clang -bundle -undefined dynamic_lookup -Wl,-pie -Wl,-headerpad_max_install_names -Wl,-dead_strip_dylibs -Wl,-rpath,/Users/thor/opt/anaconda3/lib -L/Users/thor/opt/anaconda3/lib -flto -Wl,-export_dynamic -Wl,-pie -Wl,-headerpad_max_install_names -Wl,-dead_strip_dylibs -Wl,-rpath,/Users/thor/opt/anaconda3/lib -L/Users/thor/opt/anaconda3/lib -Wl,-pie -Wl,-headerpad_max_install_names -Wl,-dead_strip_dylibs -Wl,-rpath,/Users/thor/opt/anaconda3/lib -L/Users/thor/opt/anaconda3/lib -march=core2 -mtune=haswell -mssse3 -ftree-vectorize -fPIC -fPIE -fstack-protector-strong -O2 -pipe -isystem /Users/thor/opt/anaconda3/include -D_FORTIFY_SOURCE=2 -mmacosx-version-min=10.9 -isystem /Users/thor/opt/anaconda3/include -arch x86_64 build/temp.macosx-10.9-x86_64-3.8/pyramid/__check_build/_check_build.o -o build/lib.macosx-10.9-x86_64-3.8/pyramid/__check_build/_check_build.cpython-38-darwin.so\n",
      "  ld: warning: -pie being ignored. It is only used when linking a main executable\n",
      "  building 'pyramid.arima._arima' extension\n",
      "  compiling C sources\n",
      "  C compiler: x86_64-apple-darwin13.4.0-clang -fno-strict-aliasing -Wsign-compare -Wunreachable-code -DNDEBUG -fwrapv -O3 -Wall -Wstrict-prototypes -march=core2 -mtune=haswell -mssse3 -ftree-vectorize -fPIC -fPIE -fstack-protector-strong -O3 -pipe -fdebug-prefix-map=${SRC_DIR}=/usr/local/src/conda/${PKG_NAME}-${PKG_VERSION} -fdebug-prefix-map=/Users/thor/opt/anaconda3=/usr/local/src/conda-prefix -flto -Wl,-export_dynamic -march=core2 -mtune=haswell -mssse3 -ftree-vectorize -fPIC -fPIE -fstack-protector-strong -O3 -march=core2 -mtune=haswell -mssse3 -ftree-vectorize -fPIC -fPIE -fstack-protector-strong -O2 -pipe -isystem /Users/thor/opt/anaconda3/include -D_FORTIFY_SOURCE=2 -mmacosx-version-min=10.9 -isystem /Users/thor/opt/anaconda3/include\n",
      "  \n",
      "  creating build/temp.macosx-10.9-x86_64-3.8/pyramid/arima\n",
      "  compile options: '-DSCIPY_MKL_H -DHAVE_CBLAS -I/Users/thor/opt/anaconda3/lib/python3.8/site-packages/numpy/core/include -Ipyramid/arima/_arima_fast_helpers.h -I/Users/thor/opt/anaconda3/include -I/Users/thor/opt/anaconda3/lib/python3.8/site-packages/numpy/core/include -I/Users/thor/opt/anaconda3/include/python3.8 -c'\n",
      "  x86_64-apple-darwin13.4.0-clang: pyramid/arima/_arima.c\n",
      "  clang-9: warning: -Wl,-export_dynamic: 'linker' input unused [-Wunused-command-line-argument]\n",
      "  In file included from pyramid/arima/_arima.c:308:\n",
      "  In file included from /Users/thor/opt/anaconda3/lib/python3.8/site-packages/numpy/core/include/numpy/arrayobject.h:4:\n",
      "  In file included from /Users/thor/opt/anaconda3/lib/python3.8/site-packages/numpy/core/include/numpy/ndarrayobject.h:12:\n",
      "  In file included from /Users/thor/opt/anaconda3/lib/python3.8/site-packages/numpy/core/include/numpy/ndarraytypes.h:1822:\n",
      "  /Users/thor/opt/anaconda3/lib/python3.8/site-packages/numpy/core/include/numpy/npy_1_7_deprecated_api.h:17:2: warning: \"Using deprecated NumPy API, disable it with \"          \"#define NPY_NO_DEPRECATED_API NPY_1_7_API_VERSION\" [-W#warnings]\n",
      "  #warning \"Using deprecated NumPy API, disable it with \" \\\n",
      "   ^\n",
      "  pyramid/arima/_arima.c:25487:26: warning: 'tp_print' is deprecated [-Wdeprecated-declarations]\n",
      "    __pyx_type___pyx_array.tp_print = 0;\n",
      "                           ^\n",
      "  /Users/thor/opt/anaconda3/include/python3.8/cpython/object.h:260:5: note: 'tp_print' has been explicitly marked deprecated here\n",
      "      Py_DEPRECATED(3.8) int (*tp_print)(PyObject *, FILE *, int);\n",
      "      ^\n",
      "  /Users/thor/opt/anaconda3/include/python3.8/pyport.h:515:54: note: expanded from macro 'Py_DEPRECATED'\n",
      "  #define Py_DEPRECATED(VERSION_UNUSED) __attribute__((__deprecated__))\n",
      "                                                       ^\n",
      "  pyramid/arima/_arima.c:25491:32: warning: 'tp_print' is deprecated [-Wdeprecated-declarations]\n",
      "    __pyx_type___pyx_MemviewEnum.tp_print = 0;\n",
      "                                 ^\n",
      "  /Users/thor/opt/anaconda3/include/python3.8/cpython/object.h:260:5: note: 'tp_print' has been explicitly marked deprecated here\n",
      "      Py_DEPRECATED(3.8) int (*tp_print)(PyObject *, FILE *, int);\n",
      "      ^\n",
      "  /Users/thor/opt/anaconda3/include/python3.8/pyport.h:515:54: note: expanded from macro 'Py_DEPRECATED'\n",
      "  #define Py_DEPRECATED(VERSION_UNUSED) __attribute__((__deprecated__))\n",
      "                                                       ^\n",
      "  pyramid/arima/_arima.c:25502:31: warning: 'tp_print' is deprecated [-Wdeprecated-declarations]\n",
      "    __pyx_type___pyx_memoryview.tp_print = 0;\n",
      "                                ^\n",
      "  /Users/thor/opt/anaconda3/include/python3.8/cpython/object.h:260:5: note: 'tp_print' has been explicitly marked deprecated here\n",
      "      Py_DEPRECATED(3.8) int (*tp_print)(PyObject *, FILE *, int);\n",
      "      ^\n",
      "  /Users/thor/opt/anaconda3/include/python3.8/pyport.h:515:54: note: expanded from macro 'Py_DEPRECATED'\n",
      "  #define Py_DEPRECATED(VERSION_UNUSED) __attribute__((__deprecated__))\n",
      "                                                       ^\n",
      "  pyramid/arima/_arima.c:25511:36: warning: 'tp_print' is deprecated [-Wdeprecated-declarations]\n",
      "    __pyx_type___pyx_memoryviewslice.tp_print = 0;\n",
      "                                     ^\n",
      "  /Users/thor/opt/anaconda3/include/python3.8/cpython/object.h:260:5: note: 'tp_print' has been explicitly marked deprecated here\n",
      "      Py_DEPRECATED(3.8) int (*tp_print)(PyObject *, FILE *, int);\n",
      "      ^\n",
      "  /Users/thor/opt/anaconda3/include/python3.8/pyport.h:515:54: note: expanded from macro 'Py_DEPRECATED'\n",
      "  #define Py_DEPRECATED(VERSION_UNUSED) __attribute__((__deprecated__))\n",
      "                                                       ^\n",
      "  pyramid/arima/_arima.c:26129:21: error: no member named 'exc_type' in 'struct _ts'\n",
      "      *type = tstate->exc_type;\n",
      "              ~~~~~~  ^\n",
      "  pyramid/arima/_arima.c:26130:22: error: no member named 'exc_value' in 'struct _ts'; did you mean 'curexc_value'?\n",
      "      *value = tstate->exc_value;\n",
      "                       ^~~~~~~~~\n",
      "                       curexc_value\n",
      "  /Users/thor/opt/anaconda3/include/python3.8/cpython/pystate.h:80:15: note: 'curexc_value' declared here\n",
      "      PyObject *curexc_value;\n",
      "                ^\n",
      "  pyramid/arima/_arima.c:26131:19: error: no member named 'exc_traceback' in 'struct _ts'; did you mean 'curexc_traceback'?\n",
      "      *tb = tstate->exc_traceback;\n",
      "                    ^~~~~~~~~~~~~\n",
      "                    curexc_traceback\n",
      "  /Users/thor/opt/anaconda3/include/python3.8/cpython/pystate.h:81:15: note: 'curexc_traceback' declared here\n",
      "      PyObject *curexc_traceback;\n",
      "                ^\n",
      "  pyramid/arima/_arima.c:26138:24: error: no member named 'exc_type' in 'struct _ts'\n",
      "      tmp_type = tstate->exc_type;\n",
      "                 ~~~~~~  ^\n",
      "  pyramid/arima/_arima.c:26139:25: error: no member named 'exc_value' in 'struct _ts'; did you mean 'curexc_value'?\n",
      "      tmp_value = tstate->exc_value;\n",
      "                          ^~~~~~~~~\n",
      "                          curexc_value\n",
      "  /Users/thor/opt/anaconda3/include/python3.8/cpython/pystate.h:80:15: note: 'curexc_value' declared here\n",
      "      PyObject *curexc_value;\n",
      "                ^\n",
      "  pyramid/arima/_arima.c:26140:22: error: no member named 'exc_traceback' in 'struct _ts'; did you mean 'curexc_traceback'?\n",
      "      tmp_tb = tstate->exc_traceback;\n",
      "                       ^~~~~~~~~~~~~\n",
      "                       curexc_traceback\n",
      "  /Users/thor/opt/anaconda3/include/python3.8/cpython/pystate.h:81:15: note: 'curexc_traceback' declared here\n",
      "      PyObject *curexc_traceback;\n",
      "                ^\n",
      "  pyramid/arima/_arima.c:26141:13: error: no member named 'exc_type' in 'struct _ts'\n",
      "      tstate->exc_type = type;\n",
      "      ~~~~~~  ^\n",
      "  pyramid/arima/_arima.c:26142:13: error: no member named 'exc_value' in 'struct _ts'; did you mean 'curexc_value'?\n",
      "      tstate->exc_value = value;\n",
      "              ^~~~~~~~~\n",
      "              curexc_value\n",
      "  /Users/thor/opt/anaconda3/include/python3.8/cpython/pystate.h:80:15: note: 'curexc_value' declared here\n",
      "      PyObject *curexc_value;\n",
      "                ^\n",
      "  pyramid/arima/_arima.c:26143:13: error: no member named 'exc_traceback' in 'struct _ts'; did you mean 'curexc_traceback'?\n",
      "      tstate->exc_traceback = tb;\n",
      "              ^~~~~~~~~~~~~\n",
      "              curexc_traceback\n",
      "  /Users/thor/opt/anaconda3/include/python3.8/cpython/pystate.h:81:15: note: 'curexc_traceback' declared here\n",
      "      PyObject *curexc_traceback;\n",
      "                ^\n",
      "  pyramid/arima/_arima.c:26198:24: error: no member named 'exc_type' in 'struct _ts'\n",
      "      tmp_type = tstate->exc_type;\n",
      "                 ~~~~~~  ^\n",
      "  pyramid/arima/_arima.c:26199:25: error: no member named 'exc_value' in 'struct _ts'; did you mean 'curexc_value'?\n",
      "      tmp_value = tstate->exc_value;\n",
      "                          ^~~~~~~~~\n",
      "                          curexc_value\n",
      "  /Users/thor/opt/anaconda3/include/python3.8/cpython/pystate.h:80:15: note: 'curexc_value' declared here\n",
      "      PyObject *curexc_value;\n",
      "                ^\n",
      "  pyramid/arima/_arima.c:26200:22: error: no member named 'exc_traceback' in 'struct _ts'; did you mean 'curexc_traceback'?\n",
      "      tmp_tb = tstate->exc_traceback;\n",
      "                       ^~~~~~~~~~~~~\n",
      "                       curexc_traceback\n",
      "  /Users/thor/opt/anaconda3/include/python3.8/cpython/pystate.h:81:15: note: 'curexc_traceback' declared here\n",
      "      PyObject *curexc_traceback;\n",
      "                ^\n",
      "  pyramid/arima/_arima.c:26201:13: error: no member named 'exc_type' in 'struct _ts'\n",
      "      tstate->exc_type = local_type;\n",
      "      ~~~~~~  ^\n",
      "  pyramid/arima/_arima.c:26202:13: error: no member named 'exc_value' in 'struct _ts'; did you mean 'curexc_value'?\n",
      "      tstate->exc_value = local_value;\n",
      "              ^~~~~~~~~\n",
      "              curexc_value\n",
      "  /Users/thor/opt/anaconda3/include/python3.8/cpython/pystate.h:80:15: note: 'curexc_value' declared here\n",
      "      PyObject *curexc_value;\n",
      "                ^\n",
      "  pyramid/arima/_arima.c:26203:13: error: no member named 'exc_traceback' in 'struct _ts'; did you mean 'curexc_traceback'?\n",
      "      tstate->exc_traceback = local_tb;\n",
      "              ^~~~~~~~~~~~~\n",
      "              curexc_traceback\n",
      "  /Users/thor/opt/anaconda3/include/python3.8/cpython/pystate.h:81:15: note: 'curexc_traceback' declared here\n",
      "      PyObject *curexc_traceback;\n",
      "                ^\n",
      "  pyramid/arima/_arima.c:27811:24: error: no member named 'exc_type' in 'struct _ts'\n",
      "      tmp_type = tstate->exc_type;\n",
      "                 ~~~~~~  ^\n",
      "  pyramid/arima/_arima.c:27812:25: error: no member named 'exc_value' in 'struct _ts'; did you mean 'curexc_value'?\n",
      "      tmp_value = tstate->exc_value;\n",
      "                          ^~~~~~~~~\n",
      "                          curexc_value\n",
      "  /Users/thor/opt/anaconda3/include/python3.8/cpython/pystate.h:80:15: note: 'curexc_value' declared here\n",
      "      PyObject *curexc_value;\n",
      "                ^\n",
      "  pyramid/arima/_arima.c:27813:22: error: no member named 'exc_traceback' in 'struct _ts'; did you mean 'curexc_traceback'?\n",
      "      tmp_tb = tstate->exc_traceback;\n",
      "                       ^~~~~~~~~~~~~\n",
      "                       curexc_traceback\n",
      "  /Users/thor/opt/anaconda3/include/python3.8/cpython/pystate.h:81:15: note: 'curexc_traceback' declared here\n",
      "      PyObject *curexc_traceback;\n",
      "                ^\n",
      "  pyramid/arima/_arima.c:27814:13: error: no member named 'exc_type' in 'struct _ts'\n",
      "      tstate->exc_type = *type;\n",
      "      ~~~~~~  ^\n",
      "  fatal error: too many errors emitted, stopping now [-ferror-limit=]\n",
      "  5 warnings and 20 errors generated.\n",
      "  error: Command \"x86_64-apple-darwin13.4.0-clang -fno-strict-aliasing -Wsign-compare -Wunreachable-code -DNDEBUG -fwrapv -O3 -Wall -Wstrict-prototypes -march=core2 -mtune=haswell -mssse3 -ftree-vectorize -fPIC -fPIE -fstack-protector-strong -O3 -pipe -fdebug-prefix-map=${SRC_DIR}=/usr/local/src/conda/${PKG_NAME}-${PKG_VERSION} -fdebug-prefix-map=/Users/thor/opt/anaconda3=/usr/local/src/conda-prefix -flto -Wl,-export_dynamic -march=core2 -mtune=haswell -mssse3 -ftree-vectorize -fPIC -fPIE -fstack-protector-strong -O3 -march=core2 -mtune=haswell -mssse3 -ftree-vectorize -fPIC -fPIE -fstack-protector-strong -O2 -pipe -isystem /Users/thor/opt/anaconda3/include -D_FORTIFY_SOURCE=2 -mmacosx-version-min=10.9 -isystem /Users/thor/opt/anaconda3/include -DSCIPY_MKL_H -DHAVE_CBLAS -I/Users/thor/opt/anaconda3/lib/python3.8/site-packages/numpy/core/include -Ipyramid/arima/_arima_fast_helpers.h -I/Users/thor/opt/anaconda3/include -I/Users/thor/opt/anaconda3/lib/python3.8/site-packages/numpy/core/include -I/Users/thor/opt/anaconda3/include/python3.8 -c pyramid/arima/_arima.c -o build/temp.macosx-10.9-x86_64-3.8/pyramid/arima/_arima.o -MMD -MF build/temp.macosx-10.9-x86_64-3.8/pyramid/arima/_arima.o.d\" failed with exit status 1\n",
      "  ----------------------------------------\u001b[0m\n",
      "\u001b[31m  ERROR: Failed building wheel for pyramid-arima\u001b[0m\n",
      "\u001b[?25h  Running setup.py clean for pyramid-arima\n"
     ]
    },
    {
     "name": "stdout",
     "output_type": "stream",
     "text": [
      "Failed to build pyramid-arima\n",
      "Installing collected packages: pyramid-arima\n"
     ]
    }
   ],
   "source": [
    "import numpy as np\n",
    "import matplotlib.pyplot as plt\n",
    "import pandas as pd\n",
    "import matplotlib.pyplot as plt\n",
    "from sklearn.model_selection import TimeSeriesSplit\n",
    "import statsmodels.tsa.arima.model as stats\n",
    "import statsmodels.api as sm\n",
    "from statsmodels.tsa.arima_model import ARIMA\n",
    "!pip install pyramid-arima\n",
    "!pip install pmdarima\n",
    "import pmdarima as pm\n",
    "from pmdarima.arima import auto_arima"
   ]
  },
  {
   "cell_type": "code",
   "execution_count": null,
   "metadata": {
    "ExecuteTime": {
     "start_time": "2021-06-28T07:39:57.021Z"
    }
   },
   "outputs": [],
   "source": [
    "df = pd.read_csv('data/ETH-USD.csv', parse_dates=True, index_col = 'Date')\n",
    "df = df.fillna(method='bfill')\n",
    "df_log = np.log(df)"
   ]
  },
  {
   "cell_type": "code",
   "execution_count": null,
   "metadata": {
    "ExecuteTime": {
     "start_time": "2021-06-28T07:39:57.022Z"
    }
   },
   "outputs": [],
   "source": [
    "df_log.isnull().sum()"
   ]
  },
  {
   "cell_type": "code",
   "execution_count": null,
   "metadata": {
    "ExecuteTime": {
     "start_time": "2021-06-28T07:39:57.023Z"
    }
   },
   "outputs": [],
   "source": [
    "df_log_for_train = df_log.drop(columns=['High','Low','Close','Adj Close', 'Volume'])"
   ]
  },
  {
   "cell_type": "code",
   "execution_count": null,
   "metadata": {
    "ExecuteTime": {
     "end_time": "2021-06-28T07:23:02.977195Z",
     "start_time": "2021-06-28T07:23:02.969031Z"
    }
   },
   "outputs": [],
   "source": []
  },
  {
   "cell_type": "code",
   "execution_count": null,
   "metadata": {
    "ExecuteTime": {
     "start_time": "2021-06-28T07:39:57.026Z"
    }
   },
   "outputs": [],
   "source": [
    "X = df_log_for_train\n",
    "y = df_log_for_train.values\n",
    "size = int(len(X) * 0.66)\n",
    "train, test = X[0:size], X[size:len(X)]\n",
    "print(train.shape,test.shape)"
   ]
  },
  {
   "cell_type": "code",
   "execution_count": null,
   "metadata": {
    "ExecuteTime": {
     "start_time": "2021-06-28T07:39:57.028Z"
    }
   },
   "outputs": [],
   "source": [
    "stepwise_model = pm.auto_arima(train, start_p=1, start_q=1,\n",
    "                           max_p=3, max_q=3, m=12,\n",
    "                           start_P=0, seasonal=False,\n",
    "                           d=1, D=1, trace=True,\n",
    "                           error_action='ignore',  \n",
    "                           suppress_warnings=True, \n",
    "                           stepwise=True)\n",
    "print(stepwise_model.aic())"
   ]
  },
  {
   "cell_type": "code",
   "execution_count": null,
   "metadata": {
    "ExecuteTime": {
     "start_time": "2021-06-28T07:39:57.032Z"
    }
   },
   "outputs": [],
   "source": [
    "model=ARIMA(train, order=(2,1,0), freq='D')\n",
    "model_fit=model.fit()\n",
    "model_fit.summary()"
   ]
  },
  {
   "cell_type": "code",
   "execution_count": null,
   "metadata": {
    "ExecuteTime": {
     "start_time": "2021-06-28T07:39:57.034Z"
    }
   },
   "outputs": [],
   "source": [
    "residuals = pd.DataFrame(model_fit.resid)\n",
    "residuals.plot()"
   ]
  },
  {
   "cell_type": "code",
   "execution_count": null,
   "metadata": {
    "ExecuteTime": {
     "start_time": "2021-06-28T07:39:57.035Z"
    }
   },
   "outputs": [],
   "source": [
    "pred=model_fit.predict(start='2016-01-29',end='2021-06-01',typ='levels').rename('ARIMA Predictions')\n",
    "np.exp(pred).plot(legend=True)\n",
    "np.exp(test['Open']).plot(legend=True)\n",
    "plt.show()"
   ]
  },
  {
   "cell_type": "code",
   "execution_count": null,
   "metadata": {
    "ExecuteTime": {
     "start_time": "2021-06-28T07:39:57.037Z"
    }
   },
   "outputs": [],
   "source": [
    "X"
   ]
  },
  {
   "cell_type": "code",
   "execution_count": null,
   "metadata": {
    "ExecuteTime": {
     "start_time": "2021-06-28T07:39:57.039Z"
    }
   },
   "outputs": [],
   "source": [
    "stepwise_model = pm.auto_arima(X, start_p=1, start_q=1,\n",
    "                           max_p=3, max_q=3, m=12,\n",
    "                           start_P=0, seasonal=False,\n",
    "                           d=1, D=1, trace=True,\n",
    "                           error_action='ignore',  \n",
    "                           suppress_warnings=True, \n",
    "                           stepwise=True)\n",
    "print(stepwise_model.aic())"
   ]
  },
  {
   "cell_type": "code",
   "execution_count": null,
   "metadata": {
    "ExecuteTime": {
     "start_time": "2021-06-28T07:39:57.041Z"
    }
   },
   "outputs": [],
   "source": [
    "model=ARIMA(X, order=(0,1,0), freq='D')\n",
    "model_fit=model.fit()\n",
    "model_fit.summary()"
   ]
  },
  {
   "cell_type": "code",
   "execution_count": null,
   "metadata": {
    "ExecuteTime": {
     "start_time": "2021-06-28T07:39:57.042Z"
    }
   },
   "outputs": [],
   "source": [
    "plt.figure(figsize=(12,8))\n",
    "pred=model_fit.predict(start='2020-07-15',end='2021-07-15',typ='levels').rename('ARIMA Predictions')\n",
    "np.exp(pred).plot(legend=True)\n",
    "plt.show()"
   ]
  },
  {
   "cell_type": "code",
   "execution_count": null,
   "metadata": {
    "ExecuteTime": {
     "start_time": "2021-06-28T07:39:57.043Z"
    }
   },
   "outputs": [],
   "source": [
    "print(f\"Les prédictions du cours de l'ETH pour le 29 juin 2021 est de {np.exp(model_fit.predict(start='2021-06-28',end='2021-06-29',typ='levels'))}\")"
   ]
  }
 ],
 "metadata": {
  "kernelspec": {
   "display_name": "Python 3",
   "language": "python",
   "name": "python3"
  },
  "language_info": {
   "codemirror_mode": {
    "name": "ipython",
    "version": 3
   },
   "file_extension": ".py",
   "mimetype": "text/x-python",
   "name": "python",
   "nbconvert_exporter": "python",
   "pygments_lexer": "ipython3",
   "version": "3.8.5"
  },
  "latex_envs": {
   "LaTeX_envs_menu_present": true,
   "autoclose": false,
   "autocomplete": true,
   "bibliofile": "biblio.bib",
   "cite_by": "apalike",
   "current_citInitial": 1,
   "eqLabelWithNumbers": true,
   "eqNumInitial": 1,
   "hotkeys": {
    "equation": "Ctrl-E",
    "itemize": "Ctrl-I"
   },
   "labels_anchors": false,
   "latex_user_defs": false,
   "report_style_numbering": false,
   "user_envs_cfg": false
  },
  "toc": {
   "base_numbering": 1,
   "nav_menu": {},
   "number_sections": true,
   "sideBar": true,
   "skip_h1_title": false,
   "title_cell": "Table of Contents",
   "title_sidebar": "Contents",
   "toc_cell": false,
   "toc_position": {},
   "toc_section_display": true,
   "toc_window_display": false
  }
 },
 "nbformat": 4,
 "nbformat_minor": 4
}
