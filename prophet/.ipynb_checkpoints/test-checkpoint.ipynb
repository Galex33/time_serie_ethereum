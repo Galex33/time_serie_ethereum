{
 "cells": [
  {
   "cell_type": "code",
   "execution_count": 1,
   "metadata": {
    "ExecuteTime": {
     "end_time": "2021-06-20T17:57:30.980994Z",
     "start_time": "2021-06-20T17:57:30.251797Z"
    }
   },
   "outputs": [],
   "source": [
    "from data_clean import cleaning\n",
    "from f_global import read_copy_csv, df_info"
   ]
  },
  {
   "cell_type": "code",
   "execution_count": 2,
   "metadata": {
    "ExecuteTime": {
     "end_time": "2021-06-20T17:57:31.015129Z",
     "start_time": "2021-06-20T17:57:30.985558Z"
    }
   },
   "outputs": [],
   "source": [
    "ethereum_day = read_copy_csv(\"C:/Users/utilisateur/Desktop/simplon_ia/travaux/referentiels/crypto/prophet/data/ETHUSD_day.csv\")"
   ]
  },
  {
   "cell_type": "code",
   "execution_count": 3,
   "metadata": {
    "ExecuteTime": {
     "end_time": "2021-06-20T17:57:31.047002Z",
     "start_time": "2021-06-20T17:57:31.019159Z"
    }
   },
   "outputs": [],
   "source": [
    "ethereum_day = cleaning(ethereum_day)"
   ]
  },
  {
   "cell_type": "code",
   "execution_count": 4,
   "metadata": {
    "ExecuteTime": {
     "end_time": "2021-06-20T17:57:31.136225Z",
     "start_time": "2021-06-20T17:57:31.048909Z"
    }
   },
   "outputs": [
    {
     "name": "stdout",
     "output_type": "stream",
     "text": [
      "\n",
      "        Longueur du dataset : 1828 enregistrements\n",
      "        Nombre de colonnes : 6\n",
      "        \n"
     ]
    },
    {
     "data": {
      "text/html": [
       "<div>\n",
       "<style scoped>\n",
       "    .dataframe tbody tr th:only-of-type {\n",
       "        vertical-align: middle;\n",
       "    }\n",
       "\n",
       "    .dataframe tbody tr th {\n",
       "        vertical-align: top;\n",
       "    }\n",
       "\n",
       "    .dataframe thead th {\n",
       "        text-align: right;\n",
       "    }\n",
       "</style>\n",
       "<table border=\"1\" class=\"dataframe\">\n",
       "  <thead>\n",
       "    <tr style=\"text-align: right;\">\n",
       "      <th></th>\n",
       "      <th>type</th>\n",
       "      <th>Echantillon</th>\n",
       "      <th>% de valeurs nulles</th>\n",
       "      <th>Nbr L dupliquées</th>\n",
       "      <th>Nbr V unique</th>\n",
       "    </tr>\n",
       "  </thead>\n",
       "  <tbody>\n",
       "    <tr>\n",
       "      <th>Date</th>\n",
       "      <td>datetime64[ns]</td>\n",
       "      <td>[Timestamp('2021-05-10 00:00:00'), Timestamp('...</td>\n",
       "      <td>0.0</td>\n",
       "      <td>0</td>\n",
       "      <td>1828</td>\n",
       "    </tr>\n",
       "    <tr>\n",
       "      <th>Opening_Price_ETH</th>\n",
       "      <td>float64</td>\n",
       "      <td>[4060.21, 3874.49, 3539.73, 3427.49, 3478.06]</td>\n",
       "      <td>0.0</td>\n",
       "      <td>0</td>\n",
       "      <td>1738</td>\n",
       "    </tr>\n",
       "    <tr>\n",
       "      <th>Highest_rice_ETH</th>\n",
       "      <td>float64</td>\n",
       "      <td>[4345.44, 4077.7, 3968.37, 3595.0, 3598.05]</td>\n",
       "      <td>0.0</td>\n",
       "      <td>0</td>\n",
       "      <td>1690</td>\n",
       "    </tr>\n",
       "    <tr>\n",
       "      <th>Lowest_Price_ETH</th>\n",
       "      <td>float64</td>\n",
       "      <td>['Lowest_Price_ETH', 'Lowest_Price_ETH']</td>\n",
       "      <td>0.0</td>\n",
       "      <td>0</td>\n",
       "      <td>1667</td>\n",
       "    </tr>\n",
       "    <tr>\n",
       "      <th>Lowest_Price_ETH</th>\n",
       "      <td>float64</td>\n",
       "      <td>['Lowest_Price_ETH', 'Lowest_Price_ETH']</td>\n",
       "      <td>0.0</td>\n",
       "      <td>0</td>\n",
       "      <td>1725</td>\n",
       "    </tr>\n",
       "    <tr>\n",
       "      <th>Vol_ETH</th>\n",
       "      <td>float64</td>\n",
       "      <td>[49801.118780000004, 23638.51668, 25676.87443,...</td>\n",
       "      <td>0.0</td>\n",
       "      <td>0</td>\n",
       "      <td>1805</td>\n",
       "    </tr>\n",
       "  </tbody>\n",
       "</table>\n",
       "</div>"
      ],
      "text/plain": [
       "                             type  \\\n",
       "Date               datetime64[ns]   \n",
       "Opening_Price_ETH         float64   \n",
       "Highest_rice_ETH          float64   \n",
       "Lowest_Price_ETH          float64   \n",
       "Lowest_Price_ETH          float64   \n",
       "Vol_ETH                   float64   \n",
       "\n",
       "                                                         Echantillon  \\\n",
       "Date               [Timestamp('2021-05-10 00:00:00'), Timestamp('...   \n",
       "Opening_Price_ETH      [4060.21, 3874.49, 3539.73, 3427.49, 3478.06]   \n",
       "Highest_rice_ETH         [4345.44, 4077.7, 3968.37, 3595.0, 3598.05]   \n",
       "Lowest_Price_ETH            ['Lowest_Price_ETH', 'Lowest_Price_ETH']   \n",
       "Lowest_Price_ETH            ['Lowest_Price_ETH', 'Lowest_Price_ETH']   \n",
       "Vol_ETH            [49801.118780000004, 23638.51668, 25676.87443,...   \n",
       "\n",
       "                   % de valeurs nulles  Nbr L dupliquées  Nbr V unique  \n",
       "Date                               0.0                 0          1828  \n",
       "Opening_Price_ETH                  0.0                 0          1738  \n",
       "Highest_rice_ETH                   0.0                 0          1690  \n",
       "Lowest_Price_ETH                   0.0                 0          1667  \n",
       "Lowest_Price_ETH                   0.0                 0          1725  \n",
       "Vol_ETH                            0.0                 0          1805  "
      ]
     },
     "execution_count": 4,
     "metadata": {},
     "output_type": "execute_result"
    }
   ],
   "source": [
    "df_info(ethereum_day)"
   ]
  },
  {
   "cell_type": "code",
   "execution_count": 5,
   "metadata": {
    "ExecuteTime": {
     "end_time": "2021-06-20T17:58:19.816346Z",
     "start_time": "2021-06-20T17:58:19.750965Z"
    }
   },
   "outputs": [
    {
     "data": {
      "text/html": [
       "<div>\n",
       "<style scoped>\n",
       "    .dataframe tbody tr th:only-of-type {\n",
       "        vertical-align: middle;\n",
       "    }\n",
       "\n",
       "    .dataframe tbody tr th {\n",
       "        vertical-align: top;\n",
       "    }\n",
       "\n",
       "    .dataframe thead th {\n",
       "        text-align: right;\n",
       "    }\n",
       "</style>\n",
       "<table border=\"1\" class=\"dataframe\">\n",
       "  <thead>\n",
       "    <tr style=\"text-align: right;\">\n",
       "      <th></th>\n",
       "      <th>Opening_Price_ETH</th>\n",
       "      <th>Highest_rice_ETH</th>\n",
       "      <th>Lowest_Price_ETH</th>\n",
       "      <th>Lowest_Price_ETH</th>\n",
       "      <th>Vol_ETH</th>\n",
       "    </tr>\n",
       "  </thead>\n",
       "  <tbody>\n",
       "    <tr>\n",
       "      <th>count</th>\n",
       "      <td>1828.000000</td>\n",
       "      <td>1828.000000</td>\n",
       "      <td>1828.000000</td>\n",
       "      <td>1828.000000</td>\n",
       "      <td>1.828000e+03</td>\n",
       "    </tr>\n",
       "    <tr>\n",
       "      <th>mean</th>\n",
       "      <td>369.512834</td>\n",
       "      <td>385.349130</td>\n",
       "      <td>353.399866</td>\n",
       "      <td>371.673660</td>\n",
       "      <td>3.356898e+04</td>\n",
       "    </tr>\n",
       "    <tr>\n",
       "      <th>std</th>\n",
       "      <td>489.590247</td>\n",
       "      <td>515.258537</td>\n",
       "      <td>468.345511</td>\n",
       "      <td>496.526275</td>\n",
       "      <td>6.227139e+04</td>\n",
       "    </tr>\n",
       "    <tr>\n",
       "      <th>min</th>\n",
       "      <td>0.000000</td>\n",
       "      <td>7.290000</td>\n",
       "      <td>0.000000</td>\n",
       "      <td>7.030000</td>\n",
       "      <td>0.000000e+00</td>\n",
       "    </tr>\n",
       "    <tr>\n",
       "      <th>25%</th>\n",
       "      <td>126.372500</td>\n",
       "      <td>131.260000</td>\n",
       "      <td>120.937500</td>\n",
       "      <td>126.737500</td>\n",
       "      <td>7.076064e+03</td>\n",
       "    </tr>\n",
       "    <tr>\n",
       "      <th>50%</th>\n",
       "      <td>219.610000</td>\n",
       "      <td>226.860000</td>\n",
       "      <td>210.010000</td>\n",
       "      <td>220.315000</td>\n",
       "      <td>1.721786e+04</td>\n",
       "    </tr>\n",
       "    <tr>\n",
       "      <th>75%</th>\n",
       "      <td>398.480000</td>\n",
       "      <td>413.017500</td>\n",
       "      <td>385.332500</td>\n",
       "      <td>399.615000</td>\n",
       "      <td>3.671964e+04</td>\n",
       "    </tr>\n",
       "    <tr>\n",
       "      <th>max</th>\n",
       "      <td>4060.210000</td>\n",
       "      <td>4345.440000</td>\n",
       "      <td>3725.000000</td>\n",
       "      <td>4060.210000</td>\n",
       "      <td>1.824554e+06</td>\n",
       "    </tr>\n",
       "  </tbody>\n",
       "</table>\n",
       "</div>"
      ],
      "text/plain": [
       "       Opening_Price_ETH  Highest_rice_ETH  Lowest_Price_ETH  \\\n",
       "count        1828.000000       1828.000000       1828.000000   \n",
       "mean          369.512834        385.349130        353.399866   \n",
       "std           489.590247        515.258537        468.345511   \n",
       "min             0.000000          7.290000          0.000000   \n",
       "25%           126.372500        131.260000        120.937500   \n",
       "50%           219.610000        226.860000        210.010000   \n",
       "75%           398.480000        413.017500        385.332500   \n",
       "max          4060.210000       4345.440000       3725.000000   \n",
       "\n",
       "       Lowest_Price_ETH       Vol_ETH  \n",
       "count       1828.000000  1.828000e+03  \n",
       "mean         371.673660  3.356898e+04  \n",
       "std          496.526275  6.227139e+04  \n",
       "min            7.030000  0.000000e+00  \n",
       "25%          126.737500  7.076064e+03  \n",
       "50%          220.315000  1.721786e+04  \n",
       "75%          399.615000  3.671964e+04  \n",
       "max         4060.210000  1.824554e+06  "
      ]
     },
     "execution_count": 5,
     "metadata": {},
     "output_type": "execute_result"
    }
   ],
   "source": [
    "ethereum_day.describe()"
   ]
  },
  {
   "cell_type": "code",
   "execution_count": null,
   "metadata": {},
   "outputs": [],
   "source": []
  }
 ],
 "metadata": {
  "interpreter": {
   "hash": "b57b0ba709768a7bbbc5b5f9f052a7cbe42e1ac711dd327dca942e98c95c92b1"
  },
  "kernelspec": {
   "display_name": "Python 3",
   "language": "python",
   "name": "python3"
  },
  "language_info": {
   "codemirror_mode": {
    "name": "ipython",
    "version": 3
   },
   "file_extension": ".py",
   "mimetype": "text/x-python",
   "name": "python",
   "nbconvert_exporter": "python",
   "pygments_lexer": "ipython3",
   "version": "3.8.8"
  },
  "toc": {
   "base_numbering": 1,
   "nav_menu": {},
   "number_sections": true,
   "sideBar": true,
   "skip_h1_title": false,
   "title_cell": "Table of Contents",
   "title_sidebar": "Contents",
   "toc_cell": false,
   "toc_position": {},
   "toc_section_display": true,
   "toc_window_display": false
  }
 },
 "nbformat": 4,
 "nbformat_minor": 2
}
