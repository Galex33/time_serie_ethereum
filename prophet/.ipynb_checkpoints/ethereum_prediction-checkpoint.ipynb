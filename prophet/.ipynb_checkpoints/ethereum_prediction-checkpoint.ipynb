{
 "cells": [
  {
   "cell_type": "code",
   "execution_count": 1,
   "metadata": {
    "ExecuteTime": {
     "end_time": "2021-06-20T16:35:58.780315Z",
     "start_time": "2021-06-20T16:35:54.935104Z"
    }
   },
   "outputs": [],
   "source": [
    "import pandas as pd\n",
    "import numpy as np\n",
    "import matplotlib.pyplot as plt\n",
    "import seaborn as sns\n",
    "from datetime import datetime\n",
    "import plotly.graph_objects as go\n",
    "from prophet import Prophet\n",
    "from prophet.plot import plot_plotly, plot_components_plotly\n",
    "from datetime import date\n",
    "from datetime import timedelta"
   ]
  },
  {
   "cell_type": "code",
   "execution_count": 2,
   "metadata": {
    "ExecuteTime": {
     "end_time": "2021-06-20T16:35:58.815514Z",
     "start_time": "2021-06-20T16:35:58.784217Z"
    }
   },
   "outputs": [],
   "source": [
    "data = pd.read_csv(\"data/ETHUSD_day.csv\")"
   ]
  },
  {
   "cell_type": "code",
   "execution_count": 3,
   "metadata": {
    "ExecuteTime": {
     "end_time": "2021-06-20T16:35:58.854741Z",
     "start_time": "2021-06-20T16:35:58.818287Z"
    }
   },
   "outputs": [
    {
     "data": {
      "text/html": [
       "<div>\n",
       "<style scoped>\n",
       "    .dataframe tbody tr th:only-of-type {\n",
       "        vertical-align: middle;\n",
       "    }\n",
       "\n",
       "    .dataframe tbody tr th {\n",
       "        vertical-align: top;\n",
       "    }\n",
       "\n",
       "    .dataframe thead th {\n",
       "        text-align: right;\n",
       "    }\n",
       "</style>\n",
       "<table border=\"1\" class=\"dataframe\">\n",
       "  <thead>\n",
       "    <tr style=\"text-align: right;\">\n",
       "      <th></th>\n",
       "      <th>Unix Timestamp</th>\n",
       "      <th>Date</th>\n",
       "      <th>Symbol</th>\n",
       "      <th>Open</th>\n",
       "      <th>High</th>\n",
       "      <th>Low</th>\n",
       "      <th>Close</th>\n",
       "      <th>Volume</th>\n",
       "    </tr>\n",
       "  </thead>\n",
       "  <tbody>\n",
       "    <tr>\n",
       "      <th>0</th>\n",
       "      <td>1.620620e+12</td>\n",
       "      <td>10-05-2021 04:00</td>\n",
       "      <td>ETHUSD</td>\n",
       "      <td>4060.21</td>\n",
       "      <td>4345.44</td>\n",
       "      <td>3500.00</td>\n",
       "      <td>3924.70</td>\n",
       "      <td>49801.11878</td>\n",
       "    </tr>\n",
       "    <tr>\n",
       "      <th>1</th>\n",
       "      <td>1.620530e+12</td>\n",
       "      <td>09-05-2021 04:00</td>\n",
       "      <td>ETHUSD</td>\n",
       "      <td>3874.49</td>\n",
       "      <td>4077.70</td>\n",
       "      <td>3725.00</td>\n",
       "      <td>4060.21</td>\n",
       "      <td>23638.51668</td>\n",
       "    </tr>\n",
       "    <tr>\n",
       "      <th>2</th>\n",
       "      <td>1.620450e+12</td>\n",
       "      <td>08-05-2021 04:00</td>\n",
       "      <td>ETHUSD</td>\n",
       "      <td>3539.73</td>\n",
       "      <td>3968.37</td>\n",
       "      <td>3512.13</td>\n",
       "      <td>3874.49</td>\n",
       "      <td>25676.87443</td>\n",
       "    </tr>\n",
       "    <tr>\n",
       "      <th>3</th>\n",
       "      <td>1.620360e+12</td>\n",
       "      <td>07-05-2021 04:00</td>\n",
       "      <td>ETHUSD</td>\n",
       "      <td>3427.49</td>\n",
       "      <td>3595.00</td>\n",
       "      <td>3355.01</td>\n",
       "      <td>3539.73</td>\n",
       "      <td>15974.56746</td>\n",
       "    </tr>\n",
       "    <tr>\n",
       "      <th>4</th>\n",
       "      <td>1.620270e+12</td>\n",
       "      <td>06-05-2021 04:00</td>\n",
       "      <td>ETHUSD</td>\n",
       "      <td>3478.06</td>\n",
       "      <td>3598.05</td>\n",
       "      <td>3402.01</td>\n",
       "      <td>3427.49</td>\n",
       "      <td>16516.66968</td>\n",
       "    </tr>\n",
       "  </tbody>\n",
       "</table>\n",
       "</div>"
      ],
      "text/plain": [
       "   Unix Timestamp              Date  Symbol     Open     High      Low  \\\n",
       "0    1.620620e+12  10-05-2021 04:00  ETHUSD  4060.21  4345.44  3500.00   \n",
       "1    1.620530e+12  09-05-2021 04:00  ETHUSD  3874.49  4077.70  3725.00   \n",
       "2    1.620450e+12  08-05-2021 04:00  ETHUSD  3539.73  3968.37  3512.13   \n",
       "3    1.620360e+12  07-05-2021 04:00  ETHUSD  3427.49  3595.00  3355.01   \n",
       "4    1.620270e+12  06-05-2021 04:00  ETHUSD  3478.06  3598.05  3402.01   \n",
       "\n",
       "     Close       Volume  \n",
       "0  3924.70  49801.11878  \n",
       "1  4060.21  23638.51668  \n",
       "2  3874.49  25676.87443  \n",
       "3  3539.73  15974.56746  \n",
       "4  3427.49  16516.66968  "
      ]
     },
     "execution_count": 3,
     "metadata": {},
     "output_type": "execute_result"
    }
   ],
   "source": [
    "data.head()"
   ]
  },
  {
   "cell_type": "code",
   "execution_count": 4,
   "metadata": {
    "ExecuteTime": {
     "end_time": "2021-06-20T16:35:58.879446Z",
     "start_time": "2021-06-20T16:35:58.858798Z"
    }
   },
   "outputs": [],
   "source": [
    "#df_mask= data['Date']=='05-01-2018 04:00'\n",
    "#filtered_df = data[df_mask]\n",
    "#filtered_df"
   ]
  },
  {
   "cell_type": "code",
   "execution_count": 5,
   "metadata": {
    "ExecuteTime": {
     "end_time": "2021-06-20T16:35:58.894698Z",
     "start_time": "2021-06-20T16:35:58.882620Z"
    }
   },
   "outputs": [],
   "source": [
    "ethereum_day = data.copy()"
   ]
  },
  {
   "cell_type": "code",
   "execution_count": 6,
   "metadata": {
    "ExecuteTime": {
     "end_time": "2021-06-20T16:35:58.933199Z",
     "start_time": "2021-06-20T16:35:58.897738Z"
    }
   },
   "outputs": [
    {
     "data": {
      "text/html": [
       "<div>\n",
       "<style scoped>\n",
       "    .dataframe tbody tr th:only-of-type {\n",
       "        vertical-align: middle;\n",
       "    }\n",
       "\n",
       "    .dataframe tbody tr th {\n",
       "        vertical-align: top;\n",
       "    }\n",
       "\n",
       "    .dataframe thead th {\n",
       "        text-align: right;\n",
       "    }\n",
       "</style>\n",
       "<table border=\"1\" class=\"dataframe\">\n",
       "  <thead>\n",
       "    <tr style=\"text-align: right;\">\n",
       "      <th></th>\n",
       "      <th>Unix Timestamp</th>\n",
       "      <th>Date</th>\n",
       "      <th>Symbol</th>\n",
       "      <th>Open</th>\n",
       "      <th>High</th>\n",
       "      <th>Low</th>\n",
       "      <th>Close</th>\n",
       "      <th>Volume</th>\n",
       "    </tr>\n",
       "  </thead>\n",
       "  <tbody>\n",
       "    <tr>\n",
       "      <th>0</th>\n",
       "      <td>1.620620e+12</td>\n",
       "      <td>10-05-2021 04:00</td>\n",
       "      <td>ETHUSD</td>\n",
       "      <td>4060.21</td>\n",
       "      <td>4345.44</td>\n",
       "      <td>3500.00</td>\n",
       "      <td>3924.70</td>\n",
       "      <td>49801.11878</td>\n",
       "    </tr>\n",
       "    <tr>\n",
       "      <th>1</th>\n",
       "      <td>1.620530e+12</td>\n",
       "      <td>09-05-2021 04:00</td>\n",
       "      <td>ETHUSD</td>\n",
       "      <td>3874.49</td>\n",
       "      <td>4077.70</td>\n",
       "      <td>3725.00</td>\n",
       "      <td>4060.21</td>\n",
       "      <td>23638.51668</td>\n",
       "    </tr>\n",
       "    <tr>\n",
       "      <th>2</th>\n",
       "      <td>1.620450e+12</td>\n",
       "      <td>08-05-2021 04:00</td>\n",
       "      <td>ETHUSD</td>\n",
       "      <td>3539.73</td>\n",
       "      <td>3968.37</td>\n",
       "      <td>3512.13</td>\n",
       "      <td>3874.49</td>\n",
       "      <td>25676.87443</td>\n",
       "    </tr>\n",
       "    <tr>\n",
       "      <th>3</th>\n",
       "      <td>1.620360e+12</td>\n",
       "      <td>07-05-2021 04:00</td>\n",
       "      <td>ETHUSD</td>\n",
       "      <td>3427.49</td>\n",
       "      <td>3595.00</td>\n",
       "      <td>3355.01</td>\n",
       "      <td>3539.73</td>\n",
       "      <td>15974.56746</td>\n",
       "    </tr>\n",
       "    <tr>\n",
       "      <th>4</th>\n",
       "      <td>1.620270e+12</td>\n",
       "      <td>06-05-2021 04:00</td>\n",
       "      <td>ETHUSD</td>\n",
       "      <td>3478.06</td>\n",
       "      <td>3598.05</td>\n",
       "      <td>3402.01</td>\n",
       "      <td>3427.49</td>\n",
       "      <td>16516.66968</td>\n",
       "    </tr>\n",
       "  </tbody>\n",
       "</table>\n",
       "</div>"
      ],
      "text/plain": [
       "   Unix Timestamp              Date  Symbol     Open     High      Low  \\\n",
       "0    1.620620e+12  10-05-2021 04:00  ETHUSD  4060.21  4345.44  3500.00   \n",
       "1    1.620530e+12  09-05-2021 04:00  ETHUSD  3874.49  4077.70  3725.00   \n",
       "2    1.620450e+12  08-05-2021 04:00  ETHUSD  3539.73  3968.37  3512.13   \n",
       "3    1.620360e+12  07-05-2021 04:00  ETHUSD  3427.49  3595.00  3355.01   \n",
       "4    1.620270e+12  06-05-2021 04:00  ETHUSD  3478.06  3598.05  3402.01   \n",
       "\n",
       "     Close       Volume  \n",
       "0  3924.70  49801.11878  \n",
       "1  4060.21  23638.51668  \n",
       "2  3874.49  25676.87443  \n",
       "3  3539.73  15974.56746  \n",
       "4  3427.49  16516.66968  "
      ]
     },
     "execution_count": 6,
     "metadata": {},
     "output_type": "execute_result"
    }
   ],
   "source": [
    "ethereum_day.head()"
   ]
  },
  {
   "cell_type": "code",
   "execution_count": 7,
   "metadata": {
    "ExecuteTime": {
     "end_time": "2021-06-20T16:35:58.955697Z",
     "start_time": "2021-06-20T16:35:58.938702Z"
    }
   },
   "outputs": [],
   "source": [
    "ethereum_day.drop(columns=['Unix Timestamp', 'Symbol'], inplace=True)\n"
   ]
  },
  {
   "cell_type": "code",
   "execution_count": 8,
   "metadata": {
    "ExecuteTime": {
     "end_time": "2021-06-20T16:35:59.003446Z",
     "start_time": "2021-06-20T16:35:58.965243Z"
    }
   },
   "outputs": [
    {
     "data": {
      "text/html": [
       "<div>\n",
       "<style scoped>\n",
       "    .dataframe tbody tr th:only-of-type {\n",
       "        vertical-align: middle;\n",
       "    }\n",
       "\n",
       "    .dataframe tbody tr th {\n",
       "        vertical-align: top;\n",
       "    }\n",
       "\n",
       "    .dataframe thead th {\n",
       "        text-align: right;\n",
       "    }\n",
       "</style>\n",
       "<table border=\"1\" class=\"dataframe\">\n",
       "  <thead>\n",
       "    <tr style=\"text-align: right;\">\n",
       "      <th></th>\n",
       "      <th>Date</th>\n",
       "      <th>Open</th>\n",
       "      <th>High</th>\n",
       "      <th>Low</th>\n",
       "      <th>Close</th>\n",
       "      <th>Volume</th>\n",
       "    </tr>\n",
       "  </thead>\n",
       "  <tbody>\n",
       "    <tr>\n",
       "      <th>0</th>\n",
       "      <td>10-05-2021 04:00</td>\n",
       "      <td>4060.21</td>\n",
       "      <td>4345.44</td>\n",
       "      <td>3500.00</td>\n",
       "      <td>3924.70</td>\n",
       "      <td>49801.11878</td>\n",
       "    </tr>\n",
       "    <tr>\n",
       "      <th>1</th>\n",
       "      <td>09-05-2021 04:00</td>\n",
       "      <td>3874.49</td>\n",
       "      <td>4077.70</td>\n",
       "      <td>3725.00</td>\n",
       "      <td>4060.21</td>\n",
       "      <td>23638.51668</td>\n",
       "    </tr>\n",
       "    <tr>\n",
       "      <th>2</th>\n",
       "      <td>08-05-2021 04:00</td>\n",
       "      <td>3539.73</td>\n",
       "      <td>3968.37</td>\n",
       "      <td>3512.13</td>\n",
       "      <td>3874.49</td>\n",
       "      <td>25676.87443</td>\n",
       "    </tr>\n",
       "    <tr>\n",
       "      <th>3</th>\n",
       "      <td>07-05-2021 04:00</td>\n",
       "      <td>3427.49</td>\n",
       "      <td>3595.00</td>\n",
       "      <td>3355.01</td>\n",
       "      <td>3539.73</td>\n",
       "      <td>15974.56746</td>\n",
       "    </tr>\n",
       "    <tr>\n",
       "      <th>4</th>\n",
       "      <td>06-05-2021 04:00</td>\n",
       "      <td>3478.06</td>\n",
       "      <td>3598.05</td>\n",
       "      <td>3402.01</td>\n",
       "      <td>3427.49</td>\n",
       "      <td>16516.66968</td>\n",
       "    </tr>\n",
       "  </tbody>\n",
       "</table>\n",
       "</div>"
      ],
      "text/plain": [
       "               Date     Open     High      Low    Close       Volume\n",
       "0  10-05-2021 04:00  4060.21  4345.44  3500.00  3924.70  49801.11878\n",
       "1  09-05-2021 04:00  3874.49  4077.70  3725.00  4060.21  23638.51668\n",
       "2  08-05-2021 04:00  3539.73  3968.37  3512.13  3874.49  25676.87443\n",
       "3  07-05-2021 04:00  3427.49  3595.00  3355.01  3539.73  15974.56746\n",
       "4  06-05-2021 04:00  3478.06  3598.05  3402.01  3427.49  16516.66968"
      ]
     },
     "execution_count": 8,
     "metadata": {},
     "output_type": "execute_result"
    }
   ],
   "source": [
    "ethereum_day.head()"
   ]
  },
  {
   "cell_type": "code",
   "execution_count": 9,
   "metadata": {
    "ExecuteTime": {
     "end_time": "2021-06-20T16:35:59.019177Z",
     "start_time": "2021-06-20T16:35:59.009217Z"
    }
   },
   "outputs": [],
   "source": [
    "ethereum_day.columns = ['Date', 'Opening_Price_ETH', 'Highest_rice_ETH', 'Lowest_Price_ETH', 'Lowest_Price_ETH', 'Vol_ETH']"
   ]
  },
  {
   "cell_type": "code",
   "execution_count": 10,
   "metadata": {
    "ExecuteTime": {
     "end_time": "2021-06-20T16:35:59.077115Z",
     "start_time": "2021-06-20T16:35:59.025986Z"
    }
   },
   "outputs": [
    {
     "data": {
      "text/html": [
       "<div>\n",
       "<style scoped>\n",
       "    .dataframe tbody tr th:only-of-type {\n",
       "        vertical-align: middle;\n",
       "    }\n",
       "\n",
       "    .dataframe tbody tr th {\n",
       "        vertical-align: top;\n",
       "    }\n",
       "\n",
       "    .dataframe thead th {\n",
       "        text-align: right;\n",
       "    }\n",
       "</style>\n",
       "<table border=\"1\" class=\"dataframe\">\n",
       "  <thead>\n",
       "    <tr style=\"text-align: right;\">\n",
       "      <th></th>\n",
       "      <th>Date</th>\n",
       "      <th>Opening_Price_ETH</th>\n",
       "      <th>Highest_rice_ETH</th>\n",
       "      <th>Lowest_Price_ETH</th>\n",
       "      <th>Lowest_Price_ETH</th>\n",
       "      <th>Vol_ETH</th>\n",
       "    </tr>\n",
       "  </thead>\n",
       "  <tbody>\n",
       "    <tr>\n",
       "      <th>0</th>\n",
       "      <td>10-05-2021 04:00</td>\n",
       "      <td>4060.21</td>\n",
       "      <td>4345.44</td>\n",
       "      <td>3500.00</td>\n",
       "      <td>3924.70</td>\n",
       "      <td>49801.11878</td>\n",
       "    </tr>\n",
       "    <tr>\n",
       "      <th>1</th>\n",
       "      <td>09-05-2021 04:00</td>\n",
       "      <td>3874.49</td>\n",
       "      <td>4077.70</td>\n",
       "      <td>3725.00</td>\n",
       "      <td>4060.21</td>\n",
       "      <td>23638.51668</td>\n",
       "    </tr>\n",
       "    <tr>\n",
       "      <th>2</th>\n",
       "      <td>08-05-2021 04:00</td>\n",
       "      <td>3539.73</td>\n",
       "      <td>3968.37</td>\n",
       "      <td>3512.13</td>\n",
       "      <td>3874.49</td>\n",
       "      <td>25676.87443</td>\n",
       "    </tr>\n",
       "    <tr>\n",
       "      <th>3</th>\n",
       "      <td>07-05-2021 04:00</td>\n",
       "      <td>3427.49</td>\n",
       "      <td>3595.00</td>\n",
       "      <td>3355.01</td>\n",
       "      <td>3539.73</td>\n",
       "      <td>15974.56746</td>\n",
       "    </tr>\n",
       "    <tr>\n",
       "      <th>4</th>\n",
       "      <td>06-05-2021 04:00</td>\n",
       "      <td>3478.06</td>\n",
       "      <td>3598.05</td>\n",
       "      <td>3402.01</td>\n",
       "      <td>3427.49</td>\n",
       "      <td>16516.66968</td>\n",
       "    </tr>\n",
       "  </tbody>\n",
       "</table>\n",
       "</div>"
      ],
      "text/plain": [
       "               Date  Opening_Price_ETH  Highest_rice_ETH  Lowest_Price_ETH  \\\n",
       "0  10-05-2021 04:00            4060.21           4345.44           3500.00   \n",
       "1  09-05-2021 04:00            3874.49           4077.70           3725.00   \n",
       "2  08-05-2021 04:00            3539.73           3968.37           3512.13   \n",
       "3  07-05-2021 04:00            3427.49           3595.00           3355.01   \n",
       "4  06-05-2021 04:00            3478.06           3598.05           3402.01   \n",
       "\n",
       "   Lowest_Price_ETH      Vol_ETH  \n",
       "0           3924.70  49801.11878  \n",
       "1           4060.21  23638.51668  \n",
       "2           3874.49  25676.87443  \n",
       "3           3539.73  15974.56746  \n",
       "4           3427.49  16516.66968  "
      ]
     },
     "execution_count": 10,
     "metadata": {},
     "output_type": "execute_result"
    }
   ],
   "source": [
    "ethereum_day.head()"
   ]
  },
  {
   "cell_type": "code",
   "execution_count": 11,
   "metadata": {
    "ExecuteTime": {
     "end_time": "2021-06-20T16:35:59.139878Z",
     "start_time": "2021-06-20T16:35:59.080441Z"
    }
   },
   "outputs": [
    {
     "data": {
      "text/html": [
       "<div>\n",
       "<style scoped>\n",
       "    .dataframe tbody tr th:only-of-type {\n",
       "        vertical-align: middle;\n",
       "    }\n",
       "\n",
       "    .dataframe tbody tr th {\n",
       "        vertical-align: top;\n",
       "    }\n",
       "\n",
       "    .dataframe thead th {\n",
       "        text-align: right;\n",
       "    }\n",
       "</style>\n",
       "<table border=\"1\" class=\"dataframe\">\n",
       "  <thead>\n",
       "    <tr style=\"text-align: right;\">\n",
       "      <th></th>\n",
       "      <th>Opening_Price_ETH</th>\n",
       "      <th>Highest_rice_ETH</th>\n",
       "      <th>Lowest_Price_ETH</th>\n",
       "      <th>Lowest_Price_ETH</th>\n",
       "      <th>Vol_ETH</th>\n",
       "    </tr>\n",
       "  </thead>\n",
       "  <tbody>\n",
       "    <tr>\n",
       "      <th>count</th>\n",
       "      <td>1828.000000</td>\n",
       "      <td>1828.000000</td>\n",
       "      <td>1828.000000</td>\n",
       "      <td>1828.000000</td>\n",
       "      <td>1.828000e+03</td>\n",
       "    </tr>\n",
       "    <tr>\n",
       "      <th>mean</th>\n",
       "      <td>369.512834</td>\n",
       "      <td>385.349130</td>\n",
       "      <td>353.399866</td>\n",
       "      <td>371.673660</td>\n",
       "      <td>3.356898e+04</td>\n",
       "    </tr>\n",
       "    <tr>\n",
       "      <th>std</th>\n",
       "      <td>489.590247</td>\n",
       "      <td>515.258537</td>\n",
       "      <td>468.345511</td>\n",
       "      <td>496.526275</td>\n",
       "      <td>6.227139e+04</td>\n",
       "    </tr>\n",
       "    <tr>\n",
       "      <th>min</th>\n",
       "      <td>0.000000</td>\n",
       "      <td>7.290000</td>\n",
       "      <td>0.000000</td>\n",
       "      <td>7.030000</td>\n",
       "      <td>0.000000e+00</td>\n",
       "    </tr>\n",
       "    <tr>\n",
       "      <th>25%</th>\n",
       "      <td>126.372500</td>\n",
       "      <td>131.260000</td>\n",
       "      <td>120.937500</td>\n",
       "      <td>126.737500</td>\n",
       "      <td>7.076064e+03</td>\n",
       "    </tr>\n",
       "    <tr>\n",
       "      <th>50%</th>\n",
       "      <td>219.610000</td>\n",
       "      <td>226.860000</td>\n",
       "      <td>210.010000</td>\n",
       "      <td>220.315000</td>\n",
       "      <td>1.721786e+04</td>\n",
       "    </tr>\n",
       "    <tr>\n",
       "      <th>75%</th>\n",
       "      <td>398.480000</td>\n",
       "      <td>413.017500</td>\n",
       "      <td>385.332500</td>\n",
       "      <td>399.615000</td>\n",
       "      <td>3.671964e+04</td>\n",
       "    </tr>\n",
       "    <tr>\n",
       "      <th>max</th>\n",
       "      <td>4060.210000</td>\n",
       "      <td>4345.440000</td>\n",
       "      <td>3725.000000</td>\n",
       "      <td>4060.210000</td>\n",
       "      <td>1.824554e+06</td>\n",
       "    </tr>\n",
       "  </tbody>\n",
       "</table>\n",
       "</div>"
      ],
      "text/plain": [
       "       Opening_Price_ETH  Highest_rice_ETH  Lowest_Price_ETH  \\\n",
       "count        1828.000000       1828.000000       1828.000000   \n",
       "mean          369.512834        385.349130        353.399866   \n",
       "std           489.590247        515.258537        468.345511   \n",
       "min             0.000000          7.290000          0.000000   \n",
       "25%           126.372500        131.260000        120.937500   \n",
       "50%           219.610000        226.860000        210.010000   \n",
       "75%           398.480000        413.017500        385.332500   \n",
       "max          4060.210000       4345.440000       3725.000000   \n",
       "\n",
       "       Lowest_Price_ETH       Vol_ETH  \n",
       "count       1828.000000  1.828000e+03  \n",
       "mean         371.673660  3.356898e+04  \n",
       "std          496.526275  6.227139e+04  \n",
       "min            7.030000  0.000000e+00  \n",
       "25%          126.737500  7.076064e+03  \n",
       "50%          220.315000  1.721786e+04  \n",
       "75%          399.615000  3.671964e+04  \n",
       "max         4060.210000  1.824554e+06  "
      ]
     },
     "execution_count": 11,
     "metadata": {},
     "output_type": "execute_result"
    }
   ],
   "source": [
    "ethereum_day.describe()"
   ]
  },
  {
   "cell_type": "code",
   "execution_count": 12,
   "metadata": {
    "ExecuteTime": {
     "end_time": "2021-06-20T16:35:59.211104Z",
     "start_time": "2021-06-20T16:35:59.143285Z"
    }
   },
   "outputs": [
    {
     "name": "stdout",
     "output_type": "stream",
     "text": [
      "\n",
      "        Longueur du dataset : 1828 enregistrements\n",
      "        Nombre de colonnes : 6\n",
      "        \n"
     ]
    },
    {
     "data": {
      "text/html": [
       "<div>\n",
       "<style scoped>\n",
       "    .dataframe tbody tr th:only-of-type {\n",
       "        vertical-align: middle;\n",
       "    }\n",
       "\n",
       "    .dataframe tbody tr th {\n",
       "        vertical-align: top;\n",
       "    }\n",
       "\n",
       "    .dataframe thead th {\n",
       "        text-align: right;\n",
       "    }\n",
       "</style>\n",
       "<table border=\"1\" class=\"dataframe\">\n",
       "  <thead>\n",
       "    <tr style=\"text-align: right;\">\n",
       "      <th></th>\n",
       "      <th>type</th>\n",
       "      <th>Echantillon</th>\n",
       "      <th>% de valeurs nulles</th>\n",
       "      <th>Nbr L dupliquées</th>\n",
       "      <th>Nbr V unique</th>\n",
       "    </tr>\n",
       "  </thead>\n",
       "  <tbody>\n",
       "    <tr>\n",
       "      <th>Date</th>\n",
       "      <td>object</td>\n",
       "      <td>['10-05-2021 04:00', '09-05-2021 04:00', '08-0...</td>\n",
       "      <td>0.0</td>\n",
       "      <td>0</td>\n",
       "      <td>1828</td>\n",
       "    </tr>\n",
       "    <tr>\n",
       "      <th>Opening_Price_ETH</th>\n",
       "      <td>float64</td>\n",
       "      <td>[4060.21, 3874.49, 3539.73, 3427.49, 3478.06]</td>\n",
       "      <td>0.0</td>\n",
       "      <td>0</td>\n",
       "      <td>1738</td>\n",
       "    </tr>\n",
       "    <tr>\n",
       "      <th>Highest_rice_ETH</th>\n",
       "      <td>float64</td>\n",
       "      <td>[4345.44, 4077.7, 3968.37, 3595.0, 3598.05]</td>\n",
       "      <td>0.0</td>\n",
       "      <td>0</td>\n",
       "      <td>1690</td>\n",
       "    </tr>\n",
       "    <tr>\n",
       "      <th>Lowest_Price_ETH</th>\n",
       "      <td>float64</td>\n",
       "      <td>['Lowest_Price_ETH', 'Lowest_Price_ETH']</td>\n",
       "      <td>0.0</td>\n",
       "      <td>0</td>\n",
       "      <td>1667</td>\n",
       "    </tr>\n",
       "    <tr>\n",
       "      <th>Lowest_Price_ETH</th>\n",
       "      <td>float64</td>\n",
       "      <td>['Lowest_Price_ETH', 'Lowest_Price_ETH']</td>\n",
       "      <td>0.0</td>\n",
       "      <td>0</td>\n",
       "      <td>1725</td>\n",
       "    </tr>\n",
       "    <tr>\n",
       "      <th>Vol_ETH</th>\n",
       "      <td>float64</td>\n",
       "      <td>[49801.118780000004, 23638.51668, 25676.87443,...</td>\n",
       "      <td>0.0</td>\n",
       "      <td>0</td>\n",
       "      <td>1805</td>\n",
       "    </tr>\n",
       "  </tbody>\n",
       "</table>\n",
       "</div>"
      ],
      "text/plain": [
       "                      type                                        Echantillon  \\\n",
       "Date                object  ['10-05-2021 04:00', '09-05-2021 04:00', '08-0...   \n",
       "Opening_Price_ETH  float64      [4060.21, 3874.49, 3539.73, 3427.49, 3478.06]   \n",
       "Highest_rice_ETH   float64        [4345.44, 4077.7, 3968.37, 3595.0, 3598.05]   \n",
       "Lowest_Price_ETH   float64           ['Lowest_Price_ETH', 'Lowest_Price_ETH']   \n",
       "Lowest_Price_ETH   float64           ['Lowest_Price_ETH', 'Lowest_Price_ETH']   \n",
       "Vol_ETH            float64  [49801.118780000004, 23638.51668, 25676.87443,...   \n",
       "\n",
       "                   % de valeurs nulles  Nbr L dupliquées  Nbr V unique  \n",
       "Date                               0.0                 0          1828  \n",
       "Opening_Price_ETH                  0.0                 0          1738  \n",
       "Highest_rice_ETH                   0.0                 0          1690  \n",
       "Lowest_Price_ETH                   0.0                 0          1667  \n",
       "Lowest_Price_ETH                   0.0                 0          1725  \n",
       "Vol_ETH                            0.0                 0          1805  "
      ]
     },
     "execution_count": 12,
     "metadata": {},
     "output_type": "execute_result"
    }
   ],
   "source": [
    "def df_info(df):\n",
    "        len_df = len(df)\n",
    "        all_columns = len(df.columns)\n",
    "\n",
    "        print(f\"\"\"\n",
    "        Longueur du dataset : {len_df} enregistrements\n",
    "        Nombre de colonnes : {all_columns}\n",
    "        \"\"\")\n",
    "\n",
    "        echantillonColonnes = []\n",
    "        for i in df.columns:\n",
    "            listcolumn = str(list(df[i].head(5)))\n",
    "            echantillonColonnes.append(listcolumn)\n",
    "       \n",
    "        pd.set_option(\"max_rows\", None)\n",
    "        obs = pd.DataFrame({'type': list(df.dtypes),\n",
    "        'Echantillon': echantillonColonnes,\n",
    "        \"% de valeurs nulles\":\n",
    "        round(df.isna().sum() / len_df * 100, 2),\n",
    "        'Nbr L dupliquées' : (df.duplicated()).sum(),\n",
    "        'Nbr V unique' : df.nunique()\n",
    "        })\n",
    "        return obs\n",
    "df_info(ethereum_day)"
   ]
  },
  {
   "cell_type": "code",
   "execution_count": 13,
   "metadata": {
    "ExecuteTime": {
     "end_time": "2021-06-20T16:35:59.237816Z",
     "start_time": "2021-06-20T16:35:59.212843Z"
    }
   },
   "outputs": [
    {
     "name": "stdout",
     "output_type": "stream",
     "text": [
      "total duplicate rows: 0\n"
     ]
    },
    {
     "data": {
      "text/plain": [
       "(1828, 6)"
      ]
     },
     "execution_count": 13,
     "metadata": {},
     "output_type": "execute_result"
    }
   ],
   "source": [
    "print(f'total duplicate rows: {ethereum_day.duplicated().sum()}')\n",
    "ethereum_day.shape"
   ]
  },
  {
   "cell_type": "code",
   "execution_count": 14,
   "metadata": {
    "ExecuteTime": {
     "end_time": "2021-06-20T16:35:59.269210Z",
     "start_time": "2021-06-20T16:35:59.239855Z"
    }
   },
   "outputs": [
    {
     "data": {
      "text/plain": [
       "(1828, 6)"
      ]
     },
     "execution_count": 14,
     "metadata": {},
     "output_type": "execute_result"
    }
   ],
   "source": [
    "ethereum_day = ethereum_day[~ethereum_day.duplicated()]\n",
    "ethereum_day.shape"
   ]
  },
  {
   "cell_type": "code",
   "execution_count": null,
   "metadata": {
    "ExecuteTime": {
     "start_time": "2021-06-20T16:35:54.985Z"
    }
   },
   "outputs": [],
   "source": [
    "ethereum_day['Date']"
   ]
  },
  {
   "cell_type": "code",
   "execution_count": null,
   "metadata": {
    "ExecuteTime": {
     "start_time": "2021-06-20T16:35:54.988Z"
    }
   },
   "outputs": [],
   "source": [
    "ethereum_day['Date'] =ethereum_day['Date'].apply(lambda x:x.replace(' 04:00', ''))"
   ]
  },
  {
   "cell_type": "code",
   "execution_count": null,
   "metadata": {
    "ExecuteTime": {
     "start_time": "2021-06-20T16:35:54.992Z"
    }
   },
   "outputs": [],
   "source": [
    "ethereum_day['Date']"
   ]
  },
  {
   "cell_type": "code",
   "execution_count": null,
   "metadata": {
    "ExecuteTime": {
     "start_time": "2021-06-20T16:35:54.995Z"
    }
   },
   "outputs": [],
   "source": [
    "ethereum_day['Date'] = pd.to_datetime(ethereum_day['Date'], dayfirst=True )\n",
    "ethereum_day['Date']"
   ]
  },
  {
   "cell_type": "code",
   "execution_count": null,
   "metadata": {
    "ExecuteTime": {
     "start_time": "2021-06-20T16:35:54.998Z"
    }
   },
   "outputs": [],
   "source": [
    "df_mask= ethereum_day['Date']=='2018-01-05'\n",
    "filtered_df = ethereum_day[df_mask]\n",
    "filtered_df"
   ]
  },
  {
   "cell_type": "code",
   "execution_count": null,
   "metadata": {
    "ExecuteTime": {
     "start_time": "2021-06-20T16:35:55.002Z"
    }
   },
   "outputs": [],
   "source": [
    "corr = ethereum_day.corr()\n",
    "mask = np.triu(np.ones_like(corr, dtype=bool))\n",
    "plt.figure(figsize=(8, 6))\n",
    "sns.heatmap(corr, mask=mask, vmin=-1,cmap='RdYlBu_r', vmax=1, square=True,\n",
    "            cbar_kws={\"shrink\": .75}, annot=True).set_title('Matrice de corrélation', fontsize=20);"
   ]
  },
  {
   "cell_type": "code",
   "execution_count": null,
   "metadata": {
    "ExecuteTime": {
     "start_time": "2021-06-20T16:35:55.005Z"
    }
   },
   "outputs": [],
   "source": [
    "sns.clustermap(corr, annot=True, figsize=(8,8));"
   ]
  },
  {
   "cell_type": "code",
   "execution_count": null,
   "metadata": {
    "ExecuteTime": {
     "start_time": "2021-06-20T16:35:55.007Z"
    }
   },
   "outputs": [],
   "source": [
    "ethereum_day.info()"
   ]
  },
  {
   "cell_type": "code",
   "execution_count": null,
   "metadata": {
    "ExecuteTime": {
     "start_time": "2021-06-20T16:35:55.010Z"
    }
   },
   "outputs": [],
   "source": [
    "ethereum_day_opening_price = ethereum_day[[\"Date\", \"Opening_Price_ETH\"]]\n",
    "\n",
    "new_names = {\n",
    "    \"Date\": \"ds\", \n",
    "    \"Opening_Price_ETH\": \"y\",\n",
    "}\n",
    "\n",
    "ethereum_day_opening_price = ethereum_day_opening_price.rename(columns=new_names)"
   ]
  },
  {
   "cell_type": "code",
   "execution_count": null,
   "metadata": {
    "ExecuteTime": {
     "start_time": "2021-06-20T16:35:55.013Z"
    },
    "scrolled": true
   },
   "outputs": [],
   "source": [
    "# plot the open price\n",
    "x = ethereum_day_opening_price[\"ds\"]\n",
    "y = ethereum_day_opening_price[\"y\"]\n",
    "\n",
    "fig = go.Figure()\n",
    "fig.add_trace(go.Scatter(x=x, y=y))# Set title\n",
    "fig.update_layout(\n",
    "    title_text=\"Time series plot of Ethereum Open Price\",\n",
    ")\n",
    "\n",
    "fig.update_layout(\n",
    "    xaxis=dict(\n",
    "        rangeselector=dict(\n",
    "            buttons=list(\n",
    "                [\n",
    "                    dict(count=1, label=\"1m\", step=\"month\", stepmode=\"backward\"),\n",
    "                    dict(count=6, label=\"6m\", step=\"month\", stepmode=\"backward\"),\n",
    "                    dict(count=1, label=\"YTD\", step=\"year\", stepmode=\"todate\"),\n",
    "                    dict(count=1, label=\"1y\", step=\"year\", stepmode=\"backward\"),\n",
    "                    dict(step=\"all\"),\n",
    "                ]\n",
    "            )\n",
    "        ),\n",
    "        rangeslider=dict(visible=True),\n",
    "        type=\"date\",\n",
    "    )\n",
    ")"
   ]
  },
  {
   "cell_type": "code",
   "execution_count": null,
   "metadata": {
    "ExecuteTime": {
     "end_time": "2021-06-20T15:25:50.089474Z",
     "start_time": "2021-06-20T15:25:50.070278Z"
    }
   },
   "outputs": [],
   "source": []
  },
  {
   "cell_type": "code",
   "execution_count": null,
   "metadata": {
    "ExecuteTime": {
     "start_time": "2021-06-20T16:35:55.017Z"
    }
   },
   "outputs": [],
   "source": [
    "model = Prophet(seasonality_mode=\"multiplicative\")\n",
    "\n",
    "model.fit(ethereum_day_opening_price);"
   ]
  },
  {
   "cell_type": "code",
   "execution_count": null,
   "metadata": {
    "ExecuteTime": {
     "start_time": "2021-06-20T16:35:55.020Z"
    }
   },
   "outputs": [],
   "source": [
    "prediction = model.make_future_dataframe(periods = 365)\n",
    "prediction.tail()"
   ]
  },
  {
   "cell_type": "code",
   "execution_count": null,
   "metadata": {
    "ExecuteTime": {
     "start_time": "2021-06-20T16:35:55.024Z"
    }
   },
   "outputs": [],
   "source": [
    "forecast = model.predict(prediction)\n",
    "forecast[['ds', 'yhat', 'yhat_lower', 'yhat_upper']].head()"
   ]
  },
  {
   "cell_type": "code",
   "execution_count": null,
   "metadata": {
    "ExecuteTime": {
     "start_time": "2021-06-20T16:35:55.026Z"
    }
   },
   "outputs": [],
   "source": [
    "\n",
    "\n",
    "next_day = (date(2021, 1, 1)) + timedelta(days=1)\n",
    "forecast[forecast['ds'] == next_day]['yhat']\n",
    "\n",
    "plot_plotly(model, forecast)"
   ]
  },
  {
   "cell_type": "code",
   "execution_count": null,
   "metadata": {},
   "outputs": [],
   "source": []
  }
 ],
 "metadata": {
  "kernelspec": {
   "display_name": "Python 3",
   "language": "python",
   "name": "python3"
  },
  "language_info": {
   "codemirror_mode": {
    "name": "ipython",
    "version": 3
   },
   "file_extension": ".py",
   "mimetype": "text/x-python",
   "name": "python",
   "nbconvert_exporter": "python",
   "pygments_lexer": "ipython3",
   "version": "3.8.8"
  },
  "latex_envs": {
   "LaTeX_envs_menu_present": true,
   "autoclose": false,
   "autocomplete": true,
   "bibliofile": "biblio.bib",
   "cite_by": "apalike",
   "current_citInitial": 1,
   "eqLabelWithNumbers": true,
   "eqNumInitial": 1,
   "hotkeys": {
    "equation": "Ctrl-E",
    "itemize": "Ctrl-I"
   },
   "labels_anchors": false,
   "latex_user_defs": false,
   "report_style_numbering": false,
   "user_envs_cfg": false
  },
  "toc": {
   "base_numbering": 1,
   "nav_menu": {},
   "number_sections": true,
   "sideBar": true,
   "skip_h1_title": false,
   "title_cell": "Table of Contents",
   "title_sidebar": "Contents",
   "toc_cell": false,
   "toc_position": {},
   "toc_section_display": true,
   "toc_window_display": false
  },
  "varInspector": {
   "cols": {
    "lenName": 16,
    "lenType": 16,
    "lenVar": 40
   },
   "kernels_config": {
    "python": {
     "delete_cmd_postfix": "",
     "delete_cmd_prefix": "del ",
     "library": "var_list.py",
     "varRefreshCmd": "print(var_dic_list())"
    },
    "r": {
     "delete_cmd_postfix": ") ",
     "delete_cmd_prefix": "rm(",
     "library": "var_list.r",
     "varRefreshCmd": "cat(var_dic_list()) "
    }
   },
   "types_to_exclude": [
    "module",
    "function",
    "builtin_function_or_method",
    "instance",
    "_Feature"
   ],
   "window_display": false
  }
 },
 "nbformat": 4,
 "nbformat_minor": 4
}
