{
 "cells": [
  {
   "cell_type": "code",
   "execution_count": 8,
   "metadata": {
    "ExecuteTime": {
     "end_time": "2021-06-21T08:11:02.070702Z",
     "start_time": "2021-06-21T08:10:58.813758Z"
    }
   },
   "outputs": [],
   "source": [
    "from data_clean import cleaning\n",
    "from f_global import read_copy_csv, df_info, new_df, mask_value\n",
    "from visualisation import heatmap_and_cluster, scatter, plot\n",
    "from ml_time_serie import time_serie"
   ]
  },
  {
   "cell_type": "code",
   "execution_count": null,
   "metadata": {
    "ExecuteTime": {
     "end_time": "2021-06-21T08:06:39.527373Z",
     "start_time": "2021-06-21T08:06:38.264Z"
    }
   },
   "outputs": [],
   "source": [
    "ethereum_day = read_copy_csv(\"data/ETHUSD_day.csv\")"
   ]
  },
  {
   "cell_type": "code",
   "execution_count": null,
   "metadata": {
    "ExecuteTime": {
     "end_time": "2021-06-21T08:06:39.531879Z",
     "start_time": "2021-06-21T08:06:38.272Z"
    }
   },
   "outputs": [],
   "source": [
    "ethereum_day = cleaning(ethereum_day)"
   ]
  },
  {
   "cell_type": "code",
   "execution_count": null,
   "metadata": {
    "ExecuteTime": {
     "end_time": "2021-06-21T08:06:39.535928Z",
     "start_time": "2021-06-21T08:06:38.279Z"
    }
   },
   "outputs": [],
   "source": [
    "df_info(ethereum_day)"
   ]
  },
  {
   "cell_type": "code",
   "execution_count": null,
   "metadata": {
    "ExecuteTime": {
     "end_time": "2021-06-21T08:06:39.535928Z",
     "start_time": "2021-06-21T08:06:38.285Z"
    }
   },
   "outputs": [],
   "source": [
    "heatmap_and_cluster(ethereum_day);"
   ]
  },
  {
   "cell_type": "code",
   "execution_count": null,
   "metadata": {
    "ExecuteTime": {
     "end_time": "2021-06-21T08:06:39.535928Z",
     "start_time": "2021-06-21T08:06:38.288Z"
    }
   },
   "outputs": [],
   "source": [
    "ethereum_day_opening_price = new_df(ethereum_day, [\"Date\", \"Opening_Price_ETH\"])"
   ]
  },
  {
   "cell_type": "code",
   "execution_count": null,
   "metadata": {
    "ExecuteTime": {
     "end_time": "2021-06-21T08:06:39.543950Z",
     "start_time": "2021-06-21T08:06:38.294Z"
    }
   },
   "outputs": [],
   "source": [
    "scatter(ethereum_day_opening_price, \"ds\", \"y\")"
   ]
  },
  {
   "cell_type": "code",
   "execution_count": null,
   "metadata": {
    "ExecuteTime": {
     "end_time": "2021-06-21T08:06:39.548160Z",
     "start_time": "2021-06-21T08:06:38.298Z"
    }
   },
   "outputs": [],
   "source": [
    "model, forecast = time_serie(\"multiplicative\", ethereum_day_opening_price, 365);"
   ]
  },
  {
   "cell_type": "code",
   "execution_count": null,
   "metadata": {
    "ExecuteTime": {
     "end_time": "2021-06-21T08:06:39.552442Z",
     "start_time": "2021-06-21T08:06:38.325Z"
    }
   },
   "outputs": [],
   "source": [
    "plot(model, forecast)"
   ]
  },
  {
   "cell_type": "code",
   "execution_count": null,
   "metadata": {
    "ExecuteTime": {
     "end_time": "2021-06-21T08:06:39.556672Z",
     "start_time": "2021-06-21T08:06:38.327Z"
    }
   },
   "outputs": [],
   "source": [
    "mask_value(ethereum_day, 'Date', '2021-17-06')"
   ]
  },
  {
   "cell_type": "code",
   "execution_count": null,
   "metadata": {
    "ExecuteTime": {
     "end_time": "2021-06-21T08:06:39.560551Z",
     "start_time": "2021-06-21T08:06:38.330Z"
    }
   },
   "outputs": [],
   "source": [
    "ethereum_day.isna().sum()"
   ]
  },
  {
   "cell_type": "code",
   "execution_count": null,
   "metadata": {},
   "outputs": [],
   "source": []
  }
 ],
 "metadata": {
  "interpreter": {
   "hash": "b57b0ba709768a7bbbc5b5f9f052a7cbe42e1ac711dd327dca942e98c95c92b1"
  },
  "kernelspec": {
   "display_name": "Python 3",
   "language": "python",
   "name": "python3"
  },
  "language_info": {
   "codemirror_mode": {
    "name": "ipython",
    "version": 3
   },
   "file_extension": ".py",
   "mimetype": "text/x-python",
   "name": "python",
   "nbconvert_exporter": "python",
   "pygments_lexer": "ipython3",
   "version": "3.8.8"
  },
  "toc": {
   "base_numbering": 1,
   "nav_menu": {},
   "number_sections": true,
   "sideBar": true,
   "skip_h1_title": false,
   "title_cell": "Table of Contents",
   "title_sidebar": "Contents",
   "toc_cell": false,
   "toc_position": {},
   "toc_section_display": true,
   "toc_window_display": false
  }
 },
 "nbformat": 4,
 "nbformat_minor": 2
}
